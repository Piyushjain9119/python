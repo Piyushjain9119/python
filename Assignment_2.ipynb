{
 "cells": [
  {
   "cell_type": "markdown",
   "id": "0046d934",
   "metadata": {},
   "source": [
    "Q1. How do you comment code in Python? What are the different types of comments?"
   ]
  },
  {
   "cell_type": "markdown",
   "id": "6b1f6eef",
   "metadata": {},
   "source": [
    "ans- Comment are the not executable code or data that is ignored by the compiler during the execution .\n",
    "    There are two type of comments in python \n",
    "    1.single line comment\n",
    "    2.multi line comment\n",
    "  \n",
    "  sigle line comment can be used with the '# ' sign at the start \n",
    "  multi lne comment can be used with the '''comment '''   or \"\"\" comment \"\"\"  this signs at the start and end or the code\n",
    " "
   ]
  },
  {
   "cell_type": "code",
   "execution_count": null,
   "id": "49c9ad9d",
   "metadata": {},
   "outputs": [],
   "source": []
  },
  {
   "cell_type": "markdown",
   "id": "8f02d967",
   "metadata": {},
   "source": [
    "Q2. What are variables in Python? How do you declare and assign values to variables?"
   ]
  },
  {
   "cell_type": "markdown",
   "id": "e5b64f1d",
   "metadata": {},
   "source": [
    "ans - In python variables are used to store the data  or can say they are the placeholders to store different types of data like string ,list ,numbers.\n",
    "As in python variable declaration and value assigning is very easy and straightforword ,python is an intelligent language which itself detetcts the data type of the variable we dont have to declare the datatype of the variable during declation\n",
    "\n",
    "\n",
    " for ex   -- - - - -- "
   ]
  },
  {
   "cell_type": "code",
   "execution_count": 1,
   "id": "e48fd7e1",
   "metadata": {},
   "outputs": [],
   "source": [
    "a=10\n",
    "b='string'"
   ]
  },
  {
   "cell_type": "code",
   "execution_count": 3,
   "id": "ae820259",
   "metadata": {},
   "outputs": [
    {
     "data": {
      "text/plain": [
       "int"
      ]
     },
     "execution_count": 3,
     "metadata": {},
     "output_type": "execute_result"
    }
   ],
   "source": [
    "type(a)"
   ]
  },
  {
   "cell_type": "code",
   "execution_count": 4,
   "id": "7acfac03",
   "metadata": {},
   "outputs": [
    {
     "data": {
      "text/plain": [
       "str"
      ]
     },
     "execution_count": 4,
     "metadata": {},
     "output_type": "execute_result"
    }
   ],
   "source": [
    "type(b)"
   ]
  },
  {
   "cell_type": "markdown",
   "id": "397d9161",
   "metadata": {},
   "source": [
    "Q3. How do you convert one data type to another in Python?"
   ]
  },
  {
   "cell_type": "markdown",
   "id": "73642063",
   "metadata": {},
   "source": [
    "ans--  there are basically two methods for converting one data type to another in pyhton \n",
    "\n",
    "       1. implicit\n",
    "       2.explicit\n",
    "       \n",
    "    implicit means the datatype is changed by python itself\n",
    "    \n",
    "    explicit means that the programmer changes the data type by using some operations or techniques\n",
    "    \n",
    "    \n",
    "  for ex-----"
   ]
  },
  {
   "cell_type": "code",
   "execution_count": 8,
   "id": "ad1b7726",
   "metadata": {},
   "outputs": [
    {
     "data": {
      "text/plain": [
       "int"
      ]
     },
     "execution_count": 8,
     "metadata": {},
     "output_type": "execute_result"
    }
   ],
   "source": [
    "a = 10\n",
    "b=5\n",
    "type(a)"
   ]
  },
  {
   "cell_type": "code",
   "execution_count": 6,
   "id": "80a5c3f2",
   "metadata": {},
   "outputs": [],
   "source": [
    "a=a/b"
   ]
  },
  {
   "cell_type": "code",
   "execution_count": 7,
   "id": "06d11d1f",
   "metadata": {},
   "outputs": [
    {
     "data": {
      "text/plain": [
       "float"
      ]
     },
     "execution_count": 7,
     "metadata": {},
     "output_type": "execute_result"
    }
   ],
   "source": [
    "type(a)# implicit "
   ]
  },
  {
   "cell_type": "code",
   "execution_count": 9,
   "id": "952824b0",
   "metadata": {},
   "outputs": [],
   "source": [
    "my_list = [1, 2, 3, 4]\n",
    "my_tuple = tuple(my_list)"
   ]
  },
  {
   "cell_type": "code",
   "execution_count": 10,
   "id": "902542e6",
   "metadata": {},
   "outputs": [
    {
     "data": {
      "text/plain": [
       "tuple"
      ]
     },
     "execution_count": 10,
     "metadata": {},
     "output_type": "execute_result"
    }
   ],
   "source": [
    "type(my_tuple)  #explicit"
   ]
  },
  {
   "cell_type": "code",
   "execution_count": null,
   "id": "99f384f5",
   "metadata": {},
   "outputs": [],
   "source": []
  },
  {
   "cell_type": "markdown",
   "id": "728acbee",
   "metadata": {},
   "source": [
    "Q4. How do you write and execute a Python script from the command line?"
   ]
  },
  {
   "cell_type": "markdown",
   "id": "60dbc8df",
   "metadata": {},
   "source": [
    "ans-- we can write the code in notebook and save that file with .py extension and then we have to open cmd (command )prompt and then just we have to direct the cmd prompt to the loction where our .py file is stored and write python and the name of the file \n",
    "with .py extension"
   ]
  },
  {
   "cell_type": "code",
   "execution_count": null,
   "id": "c8de17d5",
   "metadata": {},
   "outputs": [],
   "source": []
  },
  {
   "cell_type": "markdown",
   "id": "99eb4df1",
   "metadata": {},
   "source": [
    "Q5. Given a list my_list = [1, 2, 3, 4, 5], write the code to slice the list and obtain the sub-list [2, 3]."
   ]
  },
  {
   "cell_type": "code",
   "execution_count": 11,
   "id": "57ca2f91",
   "metadata": {},
   "outputs": [],
   "source": [
    "my_list = [1, 2, 3, 4, 5]"
   ]
  },
  {
   "cell_type": "code",
   "execution_count": 12,
   "id": "80d22a88",
   "metadata": {},
   "outputs": [
    {
     "data": {
      "text/plain": [
       "[2, 3]"
      ]
     },
     "execution_count": 12,
     "metadata": {},
     "output_type": "execute_result"
    }
   ],
   "source": [
    "my_list[1:3]"
   ]
  },
  {
   "cell_type": "code",
   "execution_count": 13,
   "id": "bb19e8b3",
   "metadata": {},
   "outputs": [],
   "source": [
    "a=my_list[1:3]"
   ]
  },
  {
   "cell_type": "code",
   "execution_count": 14,
   "id": "bb92dd64",
   "metadata": {},
   "outputs": [
    {
     "data": {
      "text/plain": [
       "[2, 3]"
      ]
     },
     "execution_count": 14,
     "metadata": {},
     "output_type": "execute_result"
    }
   ],
   "source": [
    "a\n"
   ]
  },
  {
   "cell_type": "code",
   "execution_count": null,
   "id": "4c6a3e95",
   "metadata": {},
   "outputs": [],
   "source": []
  },
  {
   "cell_type": "markdown",
   "id": "4153576e",
   "metadata": {},
   "source": [
    "Q6. What is a complex number in mathematics, and how is it represented in Python?"
   ]
  },
  {
   "cell_type": "markdown",
   "id": "6600b0dc",
   "metadata": {},
   "source": [
    "complex no in mathematcis is the combination of real and imaginary data or number \n",
    "basically it is represented as 2+10i or somthing like that only but in python we dont use i we use j insted\n",
    "\n",
    "for ex---\n"
   ]
  },
  {
   "cell_type": "code",
   "execution_count": 15,
   "id": "c801c455",
   "metadata": {},
   "outputs": [],
   "source": [
    "a = 10+10j"
   ]
  },
  {
   "cell_type": "code",
   "execution_count": 16,
   "id": "2046d3c6",
   "metadata": {},
   "outputs": [
    {
     "data": {
      "text/plain": [
       "complex"
      ]
     },
     "execution_count": 16,
     "metadata": {},
     "output_type": "execute_result"
    }
   ],
   "source": [
    "type(a)"
   ]
  },
  {
   "cell_type": "code",
   "execution_count": null,
   "id": "cb783157",
   "metadata": {},
   "outputs": [],
   "source": []
  },
  {
   "cell_type": "markdown",
   "id": "55dc5f10",
   "metadata": {},
   "source": [
    "Q7. What is the correct way to declare a variable named age and assign the value 25 to it?"
   ]
  },
  {
   "cell_type": "code",
   "execution_count": 17,
   "id": "b66815f3",
   "metadata": {},
   "outputs": [
    {
     "data": {
      "text/plain": [
       "25"
      ]
     },
     "execution_count": 17,
     "metadata": {},
     "output_type": "execute_result"
    }
   ],
   "source": [
    "age = 25\n",
    "age\n"
   ]
  },
  {
   "cell_type": "markdown",
   "id": "855b396b",
   "metadata": {},
   "source": [
    "this is the correct way of doing such thing\n"
   ]
  },
  {
   "cell_type": "code",
   "execution_count": null,
   "id": "24524e7c",
   "metadata": {},
   "outputs": [],
   "source": []
  },
  {
   "cell_type": "markdown",
   "id": "bd2e630f",
   "metadata": {},
   "source": [
    "Q8. Declare a variable named price and assign the value 9.99 to it. What data type does this variable\n",
    "belong to?"
   ]
  },
  {
   "cell_type": "code",
   "execution_count": 18,
   "id": "6092143e",
   "metadata": {},
   "outputs": [
    {
     "data": {
      "text/plain": [
       "9.99"
      ]
     },
     "execution_count": 18,
     "metadata": {},
     "output_type": "execute_result"
    }
   ],
   "source": [
    "price =9.99\n",
    "price"
   ]
  },
  {
   "cell_type": "code",
   "execution_count": 19,
   "id": "e0bbfe4b",
   "metadata": {},
   "outputs": [
    {
     "data": {
      "text/plain": [
       "float"
      ]
     },
     "execution_count": 19,
     "metadata": {},
     "output_type": "execute_result"
    }
   ],
   "source": [
    "type(price)"
   ]
  },
  {
   "cell_type": "markdown",
   "id": "0665af90",
   "metadata": {},
   "source": [
    "data type of the variable is  float"
   ]
  },
  {
   "cell_type": "code",
   "execution_count": null,
   "id": "94f719ea",
   "metadata": {},
   "outputs": [],
   "source": []
  },
  {
   "cell_type": "markdown",
   "id": "1675c574",
   "metadata": {},
   "source": [
    "Q9. Create a variable named name and assign your full name to it as a string. How would you print the\n",
    "value of this variable?"
   ]
  },
  {
   "cell_type": "code",
   "execution_count": 20,
   "id": "6c79d359",
   "metadata": {},
   "outputs": [],
   "source": [
    "name = 'shashank'"
   ]
  },
  {
   "cell_type": "code",
   "execution_count": 21,
   "id": "2ce917e7",
   "metadata": {},
   "outputs": [
    {
     "data": {
      "text/plain": [
       "str"
      ]
     },
     "execution_count": 21,
     "metadata": {},
     "output_type": "execute_result"
    }
   ],
   "source": [
    "type(name)"
   ]
  },
  {
   "cell_type": "code",
   "execution_count": 22,
   "id": "1476242b",
   "metadata": {},
   "outputs": [
    {
     "name": "stdout",
     "output_type": "stream",
     "text": [
      "shashank\n"
     ]
    }
   ],
   "source": [
    "print(name)"
   ]
  },
  {
   "cell_type": "code",
   "execution_count": null,
   "id": "662545b8",
   "metadata": {},
   "outputs": [],
   "source": []
  },
  {
   "cell_type": "markdown",
   "id": "d7f2b7f0",
   "metadata": {},
   "source": [
    "Q10. Given the string \"Hello, World!\", extract the substring \"World\".\n"
   ]
  },
  {
   "cell_type": "code",
   "execution_count": 23,
   "id": "73f98ac5",
   "metadata": {},
   "outputs": [],
   "source": [
    "str = \"hello world\""
   ]
  },
  {
   "cell_type": "code",
   "execution_count": 24,
   "id": "87a601bc",
   "metadata": {},
   "outputs": [
    {
     "data": {
      "text/plain": [
       "'hello world'"
      ]
     },
     "execution_count": 24,
     "metadata": {},
     "output_type": "execute_result"
    }
   ],
   "source": [
    "str"
   ]
  },
  {
   "cell_type": "code",
   "execution_count": 25,
   "id": "94778d64",
   "metadata": {},
   "outputs": [
    {
     "data": {
      "text/plain": [
       "'world'"
      ]
     },
     "execution_count": 25,
     "metadata": {},
     "output_type": "execute_result"
    }
   ],
   "source": [
    "str[6:]"
   ]
  },
  {
   "cell_type": "markdown",
   "id": "7c03391a",
   "metadata": {},
   "source": [
    "Q11. Create a variable named \"is_student\" and assign it a boolean value indicating whether you are\n",
    "currently a student or not."
   ]
  },
  {
   "cell_type": "code",
   "execution_count": 26,
   "id": "6844940c",
   "metadata": {},
   "outputs": [],
   "source": [
    "is_student = True\n"
   ]
  },
  {
   "cell_type": "code",
   "execution_count": 27,
   "id": "56475cee",
   "metadata": {},
   "outputs": [
    {
     "data": {
      "text/plain": [
       "bool"
      ]
     },
     "execution_count": 27,
     "metadata": {},
     "output_type": "execute_result"
    }
   ],
   "source": [
    "type(is_student)"
   ]
  },
  {
   "cell_type": "code",
   "execution_count": null,
   "id": "c618be5f",
   "metadata": {},
   "outputs": [],
   "source": []
  }
 ],
 "metadata": {
  "kernelspec": {
   "display_name": "Python 3 (ipykernel)",
   "language": "python",
   "name": "python3"
  },
  "language_info": {
   "codemirror_mode": {
    "name": "ipython",
    "version": 3
   },
   "file_extension": ".py",
   "mimetype": "text/x-python",
   "name": "python",
   "nbconvert_exporter": "python",
   "pygments_lexer": "ipython3",
   "version": "3.11.3"
  }
 },
 "nbformat": 4,
 "nbformat_minor": 5
}

{
 "cells": [
  {
   "cell_type": "markdown",
   "id": "f81bdbfa",
   "metadata": {},
   "source": [
    "# Q1. What are the three measures of central tendency?"
   ]
  },
  {
   "cell_type": "markdown",
   "id": "cfc50def",
   "metadata": {},
   "source": [
    "ans - there are three measures of central tendency \n",
    "\n",
    "    1. mean\n",
    "    2. median\n",
    "    3. mode\n",
    "    \n",
    "    Mean: The mean is the average value of a dataset. It is calculated by summing all the values and dividing by the total number of observations. The mean represents the central value of the data and is commonly used when the data is normally distributed or does not have extreme outliers.\n",
    "\n",
    "    Median: The median is the middle value in an ordered dataset. It divides the data into two equal halves. The median is useful when the data is skewed or contains outliers because it is not affected by extreme values. It represents the central value that separates the higher and lower values in the dataset.\n",
    "\n",
    "    Mode: The mode is the most frequently occurring value in a dataset. It represents the value or values with the highest frequency. The mode is particularly useful when working with categorical or discrete data, where the aim is to identify the most common category or value."
   ]
  },
  {
   "cell_type": "markdown",
   "id": "17895061",
   "metadata": {},
   "source": [
    "# Q2. What is the difference between the mean, median, and mode? How are they used to measure the central tendency of a dataset?"
   ]
  },
  {
   "cell_type": "markdown",
   "id": "9254815f",
   "metadata": {},
   "source": [
    "ans -\n",
    "    Mean:\n",
    "\n",
    "1. The mean is the average value of a dataset.\n",
    "2. It is calculated by summing all the values and dividing by the total number of observations.\n",
    "3. The mean takes into account all values in the dataset.\n",
    "4. It is sensitive to extreme values, as they can significantly affect the value of the mean.\n",
    "5. The mean is commonly used when the data is normally distributed or when the goal is to find the average value.\n",
    "\n",
    "    Median:\n",
    "\n",
    "1. The median is the middle value in an ordered dataset.\n",
    "2. It divides the data into two equal halves.\n",
    "3. The median is not influenced by extreme values, making it a robust measure of central tendency.\n",
    "4. It is particularly useful when the data is skewed or contains outliers.\n",
    "5. The median represents the central value that separates the higher and lower values in the dataset.\n",
    "\n",
    "    Mode:\n",
    "\n",
    "1. The mode is the value or values that appear most frequently in a dataset.\n",
    "2. It represents the most common category or value.\n",
    "3. The mode can be used with categorical or discrete data.\n",
    "4. It provides information about the most typical or prevalent value in the dataset."
   ]
  },
  {
   "cell_type": "markdown",
   "id": "c4612afe",
   "metadata": {},
   "source": [
    "# Q3. Measure the three measures of central tendency for the given height data:\n",
    "[178,177,176,177,178.2,178,175,179,180,175,178.9,176.2,177,172.5,178,176.5]"
   ]
  },
  {
   "cell_type": "code",
   "execution_count": 5,
   "id": "510ebf05",
   "metadata": {},
   "outputs": [
    {
     "name": "stdout",
     "output_type": "stream",
     "text": [
      "Mean: 177.01875\n",
      "Median: 177.0\n",
      "Mode: 178\n"
     ]
    }
   ],
   "source": [
    "import statistics\n",
    "\n",
    "data = [178, 177, 176, 177, 178.2, 178, 175, 179, 180, 175, 178.9, 176.2, 177, 172.5, 178, 176.5]\n",
    "mean = statistics.mean(data)\n",
    "print(\"Mean:\", mean)\n",
    "median = statistics.median(data)\n",
    "print(\"Median:\", median)\n",
    "mode = statistics.mode(data)\n",
    "print(\"Mode:\", mode)"
   ]
  },
  {
   "cell_type": "markdown",
   "id": "98b6eb20",
   "metadata": {},
   "source": [
    "# Q4. Find the standard deviation for the given data:\n",
    "[178,177,176,177,178.2,178,175,179,180,175,178.9,176.2,177,172.5,178,176.5]"
   ]
  },
  {
   "cell_type": "code",
   "execution_count": 6,
   "id": "51892d84",
   "metadata": {},
   "outputs": [
    {
     "data": {
      "text/plain": [
       "1.7885814036548633"
      ]
     },
     "execution_count": 6,
     "metadata": {},
     "output_type": "execute_result"
    }
   ],
   "source": [
    "import numpy as np\n",
    "data = [178,177,176,177,178.2,178,175,179,180,175,178.9,176.2,177,172.5,178,176.5]\n",
    "np.std(data)"
   ]
  },
  {
   "cell_type": "markdown",
   "id": "b6b2ea00",
   "metadata": {},
   "source": [
    "# Q5. How are measures of dispersion such as range, variance, and standard deviation used to describe the spread of a dataset? Provide an example."
   ]
  },
  {
   "cell_type": "markdown",
   "id": "e0c2db9e",
   "metadata": {},
   "source": [
    "ans - Measures of dispersion, such as range, variance, and standard deviation, are used to describe the spread or variability of a dataset. They provide information about how the data points are spread out around the central tendency measure (such as mean or median).\n",
    "\n",
    "Range: The range is the simplest measure of dispersion and represents the difference between the maximum and minimum values in a dataset. It gives an idea of the total spread of the data. However, it does not consider the distribution of values within that range. For example, if the range is large, it indicates a wide spread of values, while a small range indicates a narrow spread.\n",
    "\n",
    "Variance: Variance measures the average squared deviation of each data point from the mean. It considers the distribution of values throughout the dataset. A higher variance indicates a greater dispersion of data points from the mean, while a lower variance indicates a lesser dispersion. However, since variance is in squared units, it may not be easily interpretable in the original measurement units.\n",
    "\n",
    "Standard Deviation: The standard deviation is the square root of the variance. It measures the average deviation of data points from the mean and is often used to describe the spread of data in the same units as the original data. A larger standard deviation indicates a wider spread of data points, while a smaller standard deviation indicates a narrower spread."
   ]
  },
  {
   "cell_type": "markdown",
   "id": "e3f9f9ba",
   "metadata": {},
   "source": [
    "\n",
    "# Q6. What is a Venn diagram?"
   ]
  },
  {
   "cell_type": "markdown",
   "id": "3852d94d",
   "metadata": {},
   "source": [
    "ans - A Venn diagram is a graphical representation used to depict relationships and commonalities between different sets or groups. It consists of overlapping circles (or other shapes) that represent the sets, and the overlapping regions represent the intersection or shared elements between the sets.\n",
    "\n",
    "In a Venn diagram, each circle typically represents a specific set, and the elements or items belonging to that set are represented within the circle. The overlapping region(s) indicate the elements that are common or shared between the sets being represented."
   ]
  },
  {
   "cell_type": "markdown",
   "id": "17b884ed",
   "metadata": {},
   "source": [
    "# Q7. For the two given sets A = (2,3,4,5,6,7) & B = (0,2,6,8,10). Find:\n",
    "(i) A B\n",
    "(ii) A ⋃ B"
   ]
  },
  {
   "cell_type": "markdown",
   "id": "3a6bd50e",
   "metadata": {},
   "source": [
    "ans - intersection of sets A and B is {2, 6}, and the union of sets A and B is {0, 2, 3, 4, 5, 6, 7, 8, 10}."
   ]
  },
  {
   "cell_type": "markdown",
   "id": "d0e35369",
   "metadata": {},
   "source": [
    "# Q8. What do you understand about skewness in data?"
   ]
  },
  {
   "cell_type": "markdown",
   "id": "b5a3a8d2",
   "metadata": {},
   "source": [
    "ans - Skewness is a statistical measure that indicates the asymmetry or lack of symmetry in the distribution of a dataset. It quantifies the degree to which a distribution deviates from a symmetrical or bell-shaped distribution (a normal distribution).\n",
    "\n",
    "Skewness can be classified into three types:\n",
    "\n",
    "Positive Skewness (Right-skewed): In a positively skewed distribution, the tail of the distribution extends towards the right, indicating that the majority of the data points are concentrated on the left side of the distribution. The mean is typically greater than the median in a positively skewed distribution.\n",
    "\n",
    "Negative Skewness (Left-skewed): In a negatively skewed distribution, the tail of the distribution extends towards the left, indicating that the majority of the data points are concentrated on the right side of the distribution. The mean is typically less than the median in a negatively skewed distribution.\n",
    "\n",
    "Zero Skewness (Symmetrical): In a symmetrical distribution, the data is evenly distributed around the mean, and the tails on both sides of the distribution are similar in length. The mean and median are equal in a symmetrical distribution."
   ]
  },
  {
   "cell_type": "markdown",
   "id": "89fc3ca5",
   "metadata": {},
   "source": [
    "# Q9. If a data is right skewed then what will be the position of median with respect to mean?"
   ]
  },
  {
   "cell_type": "markdown",
   "id": "893bb972",
   "metadata": {},
   "source": [
    "ans- If a dataset is right-skewed, the position of the median will be to the left of the mean. In a right-skewed distribution, the tail of the distribution extends towards the right, indicating that there are a few extremely high values that pull the mean in that direction. As a result, the mean is typically larger than the median in a right-skewed distribution.\n",
    "\n",
    "To understand this concept, consider a dataset where the majority of values are clustered towards the lower end, but there are a few extremely high values that extend the right tail. Since the mean is influenced by these high values, it is pulled towards the right. On the other hand, the median represents the middle value of the dataset when arranged in ascending order. As the majority of the values are on the left side, the median will be positioned to the left of the mean."
   ]
  },
  {
   "cell_type": "markdown",
   "id": "84db26a9",
   "metadata": {},
   "source": [
    "# Q10. Explain the difference between covariance and correlation. How are these measures used in statistical analysis?"
   ]
  },
  {
   "cell_type": "markdown",
   "id": "f4b44e35",
   "metadata": {},
   "source": [
    "ans - Covariance: Covariance measures the degree and direction of the linear relationship between two variables. It indicates how changes in one variable are associated with changes in another variable. The covariance can be positive, negative, or zero. A positive covariance indicates a direct relationship (both variables increase or decrease together), a negative covariance indicates an inverse relationship (one variable increases while the other decreases), and a covariance of zero indicates no linear relationship. However, the magnitude of the covariance alone does not provide information about the strength or reliability of the relationship.\n",
    "\n",
    "Correlation: Correlation is a standardized measure of the linear relationship between two variables. It quantifies both the strength and direction of the relationship, providing a value between -1 and +1. A correlation coefficient of +1 indicates a perfect positive linear relationship, -1 indicates a perfect negative linear relationship, and 0 indicates no linear relationship. Correlation coefficients closer to +1 or -1 indicate stronger relationships, while coefficients closer to 0 indicate weaker relationships.\n",
    "\n",
    "Uses in statistical analysis: Covariance and correlation are used in various ways in statistical analysis, including:\n",
    "\n",
    "1. Relationship Assessment: Both measures are used to assess the strength and direction of the relationship between two variables. They help in understanding how changes in one variable are associated with changes in another.\n",
    "2. Variable Selection: Covariance and correlation can be used to select variables that have a strong relationship with each other, which can be useful in feature selection for regression models or data reduction techniques.\n",
    "3. Comparison of Relationships: Correlation coefficients allow for easy comparison between different relationships. Researchers can compare the strength of relationships between different pairs of variables using correlation coefficients.\n",
    "4. Portfolio Analysis: Covariance and correlation are used in finance to analyze the relationship between different assets in a portfolio. They help in understanding how the returns of different assets move together and how diversification can be achieved.\n",
    "5. Multivariate Analysis: Covariance and correlation are essential in multivariate statistical analysis techniques such as factor analysis, principal component analysis, and canonical correlation analysis."
   ]
  },
  {
   "cell_type": "markdown",
   "id": "947bdd73",
   "metadata": {},
   "source": [
    "# Q11. What is the formula for calculating the sample mean? Provide an example calculation for a dataset."
   ]
  },
  {
   "cell_type": "markdown",
   "id": "42eb31c2",
   "metadata": {},
   "source": [
    "ans - Sample Mean = (Sum of all observations) / (Number of observations)\n",
    "\n",
    "Example Calculation:\n",
    "\n",
    "Let's consider a dataset of exam scores: [85, 90, 92, 88, 95].\n",
    "\n",
    "To find the sample mean:\n",
    "\n",
    "Sum of observations = 85 + 90 + 92 + 88 + 95 = 450\n",
    "\n",
    "Number of observations = 5\n",
    "\n",
    "Sample Mean = 450 / 5 = 90"
   ]
  },
  {
   "cell_type": "markdown",
   "id": "3e5ea6e4",
   "metadata": {},
   "source": [
    "# Q12. For a normal distribution data what is the relationship between its measure of central tendency?"
   ]
  },
  {
   "cell_type": "markdown",
   "id": "1f222935",
   "metadata": {},
   "source": [
    "ans - For a normal distribution:\n",
    "\n",
    "The mean, median, and mode are all located at the center of the distribution.\n",
    "\n",
    "They are all equal to each other."
   ]
  },
  {
   "cell_type": "markdown",
   "id": "6ff97c3a",
   "metadata": {},
   "source": [
    "# Q13. How is covariance different from correlation?"
   ]
  },
  {
   "cell_type": "markdown",
   "id": "10c6106d",
   "metadata": {},
   "source": [
    "ans - Scale: Covariance is not standardized and its value depends on the units of the variables, whereas correlation is standardized and its value is independent of the units of the variables.\n",
    "\n",
    "Interpretation: Covariance measures the direction and strength of the linear relationship between two variables, but it does not provide a clear interpretation of the strength or reliability of the relationship. Correlation, on the other hand, provides a standardized measure that quantifies both the strength and direction of the relationship, allowing for easier interpretation and comparison between different relationships.\n",
    "\n",
    "Range: Covariance has no defined range, while correlation coefficients range from -1 to +1, where -1 indicates a perfect negative linear relationship, +1 indicates a perfect positive linear relationship, and 0 indicates no linear relationship."
   ]
  },
  {
   "cell_type": "markdown",
   "id": "c162d022",
   "metadata": {},
   "source": [
    "# Q14. How do outliers affect measures of central tendency and dispersion? Provide an example."
   ]
  },
  {
   "cell_type": "markdown",
   "id": "32f8044a",
   "metadata": {},
   "source": [
    "ans - Measures of Central Tendency:\n",
    "\n",
    "Mean: Outliers can greatly influence the mean because it takes into account the value of each observation. A single outlier with an extreme value can pull the mean towards that extreme. As a result, the mean may not accurately represent the typical or average value of the dataset.\n",
    "\n",
    "Median: The median is less affected by outliers since it is not influenced by the actual values of the observations. It is solely determined by the position of the middle value. Therefore, a few outliers do not have a significant impact on the median.\n",
    "\n",
    "Mode: The mode, which represents the most frequently occurring value(s), is generally not influenced by outliers. Outliers are typically different values that occur with lower frequencies, so they don't affect the mode.\n",
    "\n",
    "Measures of Dispersion:\n",
    "\n",
    "Range: Outliers can significantly affect the range, which is the difference between the maximum and minimum values in a dataset. If an outlier is present, it can cause the range to be much larger than it would be without the outlier.\n",
    "\n",
    "Variance and Standard Deviation: Outliers have a notable impact on both variance and standard deviation. Since these measures incorporate the distance between each observation and the mean, outliers with extreme values can substantially increase the variance and standard deviation."
   ]
  }
 ],
 "metadata": {
  "kernelspec": {
   "display_name": "Python 3 (ipykernel)",
   "language": "python",
   "name": "python3"
  },
  "language_info": {
   "codemirror_mode": {
    "name": "ipython",
    "version": 3
   },
   "file_extension": ".py",
   "mimetype": "text/x-python",
   "name": "python",
   "nbconvert_exporter": "python",
   "pygments_lexer": "ipython3",
   "version": "3.11.3"
  }
 },
 "nbformat": 4,
 "nbformat_minor": 5
}

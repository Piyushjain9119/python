{
 "cells": [
  {
   "cell_type": "markdown",
   "id": "b327d09d",
   "metadata": {},
   "source": [
    "Q1). what is multithreading in python? why is it used? Name the module used to handle threads in python"
   ]
  },
  {
   "cell_type": "markdown",
   "id": "83a62e35",
   "metadata": {},
   "source": [
    "ans--\n",
    "   Threads are the light weight process and multithreading is the capability of a program in the python in which multiple threads executes at same time \n",
    "   multithreading in the python is used to achieve the maximum capacity of the cpu or can say to run multiple threads parallely \n",
    "   \n",
    "  \n",
    " in python' threading ' name module is used to handle the threads in the python"
   ]
  },
  {
   "cell_type": "markdown",
   "id": "b37cfef7",
   "metadata": {},
   "source": [
    "Q2).why threading module used? write the use of the following functions\n",
    "1. activeCount()\n",
    "2. currentThread()\n",
    "3. enumerate()"
   ]
  },
  {
   "cell_type": "markdown",
   "id": "9055354e",
   "metadata": {},
   "source": [
    "ans-:\n",
    "    threading module is used in the python to access the threads and multithreading functions\n",
    "    \n",
    "    1-- activecount(): activecount function in the pyhton in threads are used to detect the active or can say alive threads that are in ready state to go into runnable state \n",
    "    \n",
    "    2-- currentthread()-- currentthread function in the pyhton is used to detect the currently working threads that are in runable state\n",
    "    \n",
    "    3--enumerate()-- enumerate function in the thrading in python are used to return the list off all the alive active threads in the function or program"
   ]
  },
  {
   "cell_type": "markdown",
   "id": "bc3988fb",
   "metadata": {},
   "source": [
    "Q3). Explain the following functions\n",
    "1. run\n",
    "2. start\n",
    "3. join\n",
    "4. isAlive"
   ]
  },
  {
   "cell_type": "markdown",
   "id": "0c6a1034",
   "metadata": {},
   "source": [
    "Ans---\n",
    "\n",
    "1. run()-- \n",
    "       run function in the python is automatically used when the start function is called ,run methid is a predefined function in the threadung module which is executed by the start function\n",
    "       \n",
    "2. start()--\n",
    "        start function in the python is used to acitvate the thread or can say is used to execute a thread \n",
    "        \n",
    "3. join()--\n",
    "         join method in the python waits for the thread to complete its execution and then after exection it terminates that thread\n",
    "  \n",
    "4. isalive():\n",
    "         is alive mehtod returns the active status of the thread ,it returns true if thread is working or running else return false\n",
    "   "
   ]
  },
  {
   "cell_type": "markdown",
   "id": "4109cb01",
   "metadata": {},
   "source": [
    "Q4. write a python program to create two threads. Thread one must print the list of squares and thread\n",
    "two must print the list of cubes"
   ]
  },
  {
   "cell_type": "code",
   "execution_count": 14,
   "id": "1184ddf1",
   "metadata": {},
   "outputs": [
    {
     "name": "stdout",
     "output_type": "stream",
     "text": [
      "the squre of the given range is :-\n",
      "[1, 4, 9, 16, 25, 36, 49, 64, 81]\n",
      "the cube of the give range is :-\n",
      "[1, 8, 27, 64, 125, 216, 343, 512, 729]\n"
     ]
    }
   ],
   "source": [
    "import threading\n",
    "\n",
    "def square():\n",
    "    l1=[]\n",
    "    for i in range(1,10):\n",
    "        tmp=i**2\n",
    "        l1.append(tmp)\n",
    "    print(\"the squre of the given range is :-\")\n",
    "    print(l1)\n",
    "    \n",
    "def cube():\n",
    "    l2=[]\n",
    "    for i in range(1,10):\n",
    "        tmp=i**3\n",
    "        l2.append(tmp)\n",
    "    print(\"the cube of the give range is :-\")\n",
    "    print(l2)\n",
    "        \n",
    "\n",
    "t1 = threading.Thread(target = square )\n",
    "\n",
    "t2 = threading.Thread(target = cube )\n",
    "\n",
    "t1.start()\n",
    "t2.start()\n",
    "t1.join()\n",
    "t2.join()\n",
    "\n"
   ]
  },
  {
   "cell_type": "markdown",
   "id": "eb4e8c01",
   "metadata": {},
   "source": [
    "Q5. State advantages and disadvantages of multithreading\n"
   ]
  },
  {
   "cell_type": "markdown",
   "id": "f915722c",
   "metadata": {},
   "source": [
    "ans--\n",
    "   advantages of multithreading--\n",
    "   \n",
    "    1- helps in reduncing the load\n",
    "    2.excution of multiple threads at same time \n",
    "    3.increase durabiltiy ,responsiveness and fuctioning of the program\n",
    "    \n",
    "   disadvantages of multithreading --\n",
    "   \n",
    "    1.complexity is high in threading \n",
    "    2.not all programs or application supports multithreading\n",
    "    3.resorce compition may faces by different threads as it shares a common memory \n",
    "    "
   ]
  },
  {
   "cell_type": "markdown",
   "id": "7d8c6a5e",
   "metadata": {},
   "source": [
    "Q6. Explain deadlocks and race conditions."
   ]
  },
  {
   "cell_type": "markdown",
   "id": "9dc10d79",
   "metadata": {},
   "source": [
    "ans-- deadlock is the condtion when two or more processes are binded into a circular loop and are waiting for the event to occur so that they can get execute but that event never occurs or we can say that that situtaion in which differentt process holding some resources are waiting for other resorces holded by another process that is also in waiting state then that situation can be called as deadlock\n",
    "\n",
    "race condition- race condition is that situation when to or more process are running at same time and those processes are not syncronize to easy other and they still remains in execution state to complete there excecution as soon as possible no matters the ans is correct or not\n"
   ]
  },
  {
   "cell_type": "code",
   "execution_count": null,
   "id": "5c48857b",
   "metadata": {},
   "outputs": [],
   "source": []
  }
 ],
 "metadata": {
  "kernelspec": {
   "display_name": "Python 3 (ipykernel)",
   "language": "python",
   "name": "python3"
  },
  "language_info": {
   "codemirror_mode": {
    "name": "ipython",
    "version": 3
   },
   "file_extension": ".py",
   "mimetype": "text/x-python",
   "name": "python",
   "nbconvert_exporter": "python",
   "pygments_lexer": "ipython3",
   "version": "3.11.3"
  }
 },
 "nbformat": 4,
 "nbformat_minor": 5
}

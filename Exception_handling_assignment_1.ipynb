{
 "cells": [
  {
   "cell_type": "markdown",
   "id": "2c113c4a",
   "metadata": {},
   "source": [
    "Q1. What is an Exception in python? Write the difference between Exceptions and syntax errors"
   ]
  },
  {
   "cell_type": "markdown",
   "id": "9407b02e",
   "metadata": {},
   "source": [
    "ANS---\n",
    "  exception in the unwanted error which may occur during the execution of the program or can say code . Python raises these exception from where the error has beed occured and with the help of these exceptions handling the code writen after that gets exectued \n",
    "  \n",
    "  \n",
    "  \n",
    "  syntax error are those errors that occurs during the witing of the code or can say that errors which occured before the exection of the program and are violating the rule of the python programming language is know to be as syntax errors\n",
    "  \n",
    "  where as \n",
    "  \n",
    "  exceptions are those unwanted error that occurs during the execution of the program\n",
    "  these exceptions are handled by the python in the exception block with the help of\n",
    "  \n",
    "    try \n",
    "    except\n",
    "    else\n",
    "    and finally \n",
    "  "
   ]
  },
  {
   "cell_type": "markdown",
   "id": "e9769f35",
   "metadata": {},
   "source": [
    "Q2. What happens when an exception is not handled? Explain with an example\n"
   ]
  },
  {
   "cell_type": "markdown",
   "id": "414fa980",
   "metadata": {},
   "source": [
    "ans--\n",
    "when ever an exception is not handled in the python program then there might me the chances of the sysytem crash if the exception occur \n",
    "if the exception occur or can say any unwanted error occur during the absence of exception handling then the code written after the error might not work which may causes system crash \n",
    "\n",
    "\n",
    "for ex\n"
   ]
  },
  {
   "cell_type": "code",
   "execution_count": 1,
   "id": "fa8e275e",
   "metadata": {},
   "outputs": [
    {
     "ename": "ZeroDivisionError",
     "evalue": "division by zero",
     "output_type": "error",
     "traceback": [
      "\u001b[1;31m---------------------------------------------------------------------------\u001b[0m",
      "\u001b[1;31mZeroDivisionError\u001b[0m                         Traceback (most recent call last)",
      "Cell \u001b[1;32mIn[1], line 5\u001b[0m\n\u001b[0;32m      2\u001b[0m b \u001b[38;5;241m=\u001b[39m \u001b[38;5;241m0\u001b[39m\n\u001b[0;32m      3\u001b[0m c \u001b[38;5;241m=\u001b[39m\u001b[38;5;241m100\u001b[39m\n\u001b[1;32m----> 5\u001b[0m d \u001b[38;5;241m=\u001b[39m a\u001b[38;5;241m/\u001b[39mb\n\u001b[0;32m      6\u001b[0m \u001b[38;5;28mprint\u001b[39m(d)\n\u001b[0;32m      8\u001b[0m e \u001b[38;5;241m=\u001b[39m c\u001b[38;5;241m/\u001b[39ma\n",
      "\u001b[1;31mZeroDivisionError\u001b[0m: division by zero"
     ]
    }
   ],
   "source": [
    "a = 10\n",
    "b = 0\n",
    "c =100\n",
    "\n",
    "d = a/b\n",
    "print(d)\n",
    "\n",
    "e = c/a\n",
    "\n",
    "print(e)\n",
    "    "
   ]
  },
  {
   "cell_type": "markdown",
   "id": "5791e7ba",
   "metadata": {},
   "source": [
    "here program stops working at line no 5 and the code after error doesnt gets executed"
   ]
  },
  {
   "cell_type": "markdown",
   "id": "7e9ece58",
   "metadata": {},
   "source": [
    "Q3. Which Python statements are used to catch and handle exceptions? Explain with an example"
   ]
  },
  {
   "cell_type": "markdown",
   "id": "0ba79378",
   "metadata": {},
   "source": [
    "ans ----\n",
    "   in python programming language 'try' and 'except' are the keywords or can say staemnets which are used to catch and handle the exception\n",
    "    there many type of exception like index error,attribute error, zero division error etc these all exceptions are handled by the a package known as exception\n",
    "     \n",
    "      for example -- -- -"
   ]
  },
  {
   "cell_type": "code",
   "execution_count": 2,
   "id": "7630e262",
   "metadata": {},
   "outputs": [
    {
     "name": "stdout",
     "output_type": "stream",
     "text": [
      "division by zero\n"
     ]
    }
   ],
   "source": [
    "try:\n",
    "    a = 10\n",
    "    b = 0\n",
    "    c =100\n",
    "\n",
    "    d = a/b\n",
    "    print(d)\n",
    "\n",
    "except ZeroDivisionError as e:\n",
    "    print(e)\n",
    "    \n",
    "else:\n",
    "    print(\"code gets executed without any error\")\n"
   ]
  },
  {
   "cell_type": "markdown",
   "id": "5dbecfee",
   "metadata": {},
   "source": [
    "Q4. Explain with an example:\n",
    "1 .try and else\n",
    "2 .finally\n",
    "3 .raise\n"
   ]
  },
  {
   "cell_type": "markdown",
   "id": "87ec6bed",
   "metadata": {},
   "source": [
    "1 )try and else are the part of the exception handling in which in try block code is written and if that code written in try block gets executed without any error then the else block gets excuted and if there is any exception in the try block then the else block doest gets excuted "
   ]
  },
  {
   "cell_type": "code",
   "execution_count": 8,
   "id": "94ec4ecf",
   "metadata": {},
   "outputs": [
    {
     "name": "stdout",
     "output_type": "stream",
     "text": [
      "enter the first no10\n",
      "enter the second no 5\n",
      "2\n",
      "program got no error in it \n"
     ]
    }
   ],
   "source": [
    "try:\n",
    "    n1 = int(input(\"enter the first no\"))\n",
    "    n2 = int(input(\"enter the second no \"))\n",
    "    print(n1//n2)\n",
    "    \n",
    "except ZeroDivisionError as e:\n",
    "    print(e)\n",
    "except Exception as e:\n",
    "    print(e)\n",
    "    \n",
    "else:\n",
    "    print(\"program got no error in it \")"
   ]
  },
  {
   "cell_type": "markdown",
   "id": "24be7dcf",
   "metadata": {},
   "source": [
    "2 ) in this finally part of the exception handling the statement or the code wirtten in the finally block gets excuted any how at the end of the code\n",
    "these code will run at all circumstances at the end if the error gets occured or not \n"
   ]
  },
  {
   "cell_type": "code",
   "execution_count": 9,
   "id": "c6469b1e",
   "metadata": {},
   "outputs": [
    {
     "name": "stdout",
     "output_type": "stream",
     "text": [
      "division by zero\n",
      "this is the end of the program\n"
     ]
    }
   ],
   "source": [
    "try:\n",
    "    a = 10\n",
    "    b = 0\n",
    "    c =100\n",
    "\n",
    "    d = a/b\n",
    "    print(d)\n",
    "\n",
    "except ZeroDivisionError as e:\n",
    "    print(e)\n",
    "    \n",
    "else:\n",
    "    print(\"code gets executed without any error\")\n",
    "    \n",
    "finally:\n",
    "    print(\"this is the end of the program\")"
   ]
  },
  {
   "cell_type": "markdown",
   "id": "a4474a42",
   "metadata": {},
   "source": [
    "3)raise:\n",
    "\n",
    "    raise is the inbuilt keyword of the python used to raise the excetion in the program \n",
    "    "
   ]
  },
  {
   "cell_type": "code",
   "execution_count": 23,
   "id": "c60e5df0",
   "metadata": {},
   "outputs": [
    {
     "name": "stdout",
     "output_type": "stream",
     "text": [
      "name cannot be empty\n"
     ]
    }
   ],
   "source": [
    "def name(name):\n",
    "    if name == \" \" or name !=str:\n",
    "        raise ValueError(\"name cannot be empty\")\n",
    "        \n",
    "    else:\n",
    "        print(\"entered name is \" ,name)\n",
    "try:\n",
    "    name(\" \")\n",
    "    \n",
    "except ValueError as e:\n",
    "    print(e)"
   ]
  },
  {
   "cell_type": "markdown",
   "id": "7cebd252",
   "metadata": {},
   "source": [
    "Q5. What are Custom Exceptions in python? Why do we need Custom Exceptions? Explain with an example"
   ]
  },
  {
   "cell_type": "markdown",
   "id": "edd73826",
   "metadata": {},
   "source": [
    "ans-- \n",
    " custom exceptions are those exception that are created by inheriting the exception class of these custom exception these exceptions are created by the user for there own use \n",
    " we need custom exception as in exception library ther may not all the exception class that we need so with the help of these custom exception feature in the python user can create his /her own exception class\n",
    "       \n",
    "       for example--\n",
    "       "
   ]
  },
  {
   "cell_type": "code",
   "execution_count": 36,
   "id": "41cf7372",
   "metadata": {},
   "outputs": [
    {
     "name": "stdout",
     "output_type": "stream",
     "text": [
      "number does not  contain any string or special character\n"
     ]
    }
   ],
   "source": [
    "class ValidateNumber(Exception):\n",
    "    pass\n",
    "def number_verification(number):\n",
    "    \n",
    "    if not number or number == \" \" :\n",
    "        raise ValidateNumber(\"number cannot be empty\")\n",
    "    elif number != int: \n",
    "        raise ValidateNumber(\"number does not  contain any string or special character\")\n",
    "        \n",
    "    else:\n",
    "        print(\"entered no is correct\")\n",
    "\n",
    "        \n",
    "try:\n",
    "    number_verification('nj ')\n",
    "\n",
    "except ValidateNumber as v:\n",
    "    print(v)\n",
    "    \n",
    "else:\n",
    "    print('number verified')\n",
    "  "
   ]
  },
  {
   "cell_type": "raw",
   "id": "e8eff8d4",
   "metadata": {},
   "source": [
    "Q6. Create custom exception class. Use this class to handle an exception.\n"
   ]
  },
  {
   "cell_type": "code",
   "execution_count": 69,
   "id": "e0036e37",
   "metadata": {},
   "outputs": [
    {
     "name": "stdout",
     "output_type": "stream",
     "text": [
      "entered no is correct\n",
      "number verified\n"
     ]
    }
   ],
   "source": [
    "class ValidateNumber(Exception):\n",
    "    pass\n",
    "def number_verification(number):\n",
    "    \n",
    "    if not number or number == \" \" :\n",
    "        raise ValidateNumber(\"number cannot be empty\")\n",
    "    \n",
    "    elif number == str:\n",
    "        raise ValidateNumber(\"number does not  contain any string or special character\")\n",
    "    else:\n",
    "         print(\"entered no is correct\")\n",
    "\n",
    "        \n",
    "try:\n",
    "    number_verification(827345678)\n",
    "\n",
    "except ValidateNumber as v:\n",
    "    print(v)\n",
    "    \n",
    "else:\n",
    "    print('number verified')"
   ]
  },
  {
   "cell_type": "code",
   "execution_count": null,
   "id": "41c7de8e",
   "metadata": {},
   "outputs": [],
   "source": []
  },
  {
   "cell_type": "code",
   "execution_count": null,
   "id": "2d1f2359",
   "metadata": {},
   "outputs": [],
   "source": []
  }
 ],
 "metadata": {
  "kernelspec": {
   "display_name": "Python 3 (ipykernel)",
   "language": "python",
   "name": "python3"
  },
  "language_info": {
   "codemirror_mode": {
    "name": "ipython",
    "version": 3
   },
   "file_extension": ".py",
   "mimetype": "text/x-python",
   "name": "python",
   "nbconvert_exporter": "python",
   "pygments_lexer": "ipython3",
   "version": "3.11.3"
  }
 },
 "nbformat": 4,
 "nbformat_minor": 5
}

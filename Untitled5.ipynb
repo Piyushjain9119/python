{
 "cells": [
  {
   "cell_type": "markdown",
   "id": "1febe726-ec3b-4e0e-9f10-8031235fe090",
   "metadata": {},
   "source": [
    "Q1. What is multiprocessing in python? Why is it useful?"
   ]
  },
  {
   "cell_type": "markdown",
   "id": "6d86bad8-a39d-4a36-a8cf-51a67682c2d6",
   "metadata": {},
   "source": [
    "ans:- Multiprocessing in python prgramming language refers to the capabilty to execute multiple processes concurrently,each process has there own memory space, resources and executional context\n",
    "\n",
    " multiprocessing is usefull as:-\n",
    " 1. It provides improved performance\n",
    " 2. It provodes parallelism \n",
    " 3. It provides isolation \n",
    " 4. provides Resource management\n",
    " 5. It provide scalability \n",
    " "
   ]
  },
  {
   "cell_type": "markdown",
   "id": "2c777eff-b5f7-4914-89ba-7803c8f8502e",
   "metadata": {},
   "source": [
    "Q2. What are the differences between multiprocessing and multithreading?\n"
   ]
  },
  {
   "cell_type": "markdown",
   "id": "edfc8ca1-d4e5-4264-8fda-27f2e1016274",
   "metadata": {},
   "source": [
    "ans-- Multiprocessing and Multithreading both works to achieve the same excution but ther main difference is that ,that\n",
    "\n",
    "  In multiprocessing different processes works parallely have there own seprate memory ,resources and excutional context           there process works on the different cores of the cpu \n",
    "also,\n",
    "\n",
    "   In multithreading light weight processes called threads works parallely and uses same shared memory and all the threads          works on the same core ,same space,same resources"
   ]
  },
  {
   "cell_type": "markdown",
   "id": "3b2e1b13-89c6-420c-ac53-168e813dac11",
   "metadata": {},
   "source": [
    "Q3. Write a python code to create a process using the multiprocessing module."
   ]
  },
  {
   "cell_type": "code",
   "execution_count": 3,
   "id": "2288bd59-4b62-441f-bd16-f720006481c0",
   "metadata": {},
   "outputs": [
    {
     "name": "stdout",
     "output_type": "stream",
     "text": [
      "hello my name is piyush jain\n",
      "this is the start of the programm\n"
     ]
    }
   ],
   "source": [
    "import multiprocessing\n",
    "def test():\n",
    "    print(\"hello my name is piyush jain\")\n",
    "    \n",
    "if __name__ == '__main__':\n",
    "    m1 = multiprocessing.Process(target = test())\n",
    "    m1.start()\n",
    "    print(\"this is the start of the programm\")\n",
    "    m1.join()"
   ]
  },
  {
   "cell_type": "markdown",
   "id": "cc2ccde2-d78f-4ee8-8edb-37e4919bb8ed",
   "metadata": {},
   "source": [
    "Q4. What is a multiprocessing pool in python? Why is it used?"
   ]
  },
  {
   "cell_type": "markdown",
   "id": "9a2b8cf6-ca83-4db3-a666-773b053fa981",
   "metadata": {},
   "source": [
    "ans -- The multiprocessing module provides a Pool class that manages a pool of worker processes. The main idea is that you can submit tasks to the pool, and the pool takes care of distributing the tasks among the available worker processes. This can help you achieve parallelism and potentially speed up the execution of your code"
   ]
  },
  {
   "cell_type": "markdown",
   "id": "e5d037a3-a6dc-4e66-90f3-4c264364ad84",
   "metadata": {},
   "source": [
    "Q5. How can we create a pool of worker processes in python using the multiprocessing module?\n",
    "\n"
   ]
  },
  {
   "cell_type": "code",
   "execution_count": 4,
   "id": "4557e242-08dd-43cd-9485-47231d03f32f",
   "metadata": {},
   "outputs": [
    {
     "name": "stdout",
     "output_type": "stream",
     "text": [
      "[1, 4, 9, 16, 25, 36, 49]\n"
     ]
    }
   ],
   "source": [
    "import multiprocessing\n",
    "\n",
    "def sqaure(number):\n",
    "    result = number**2\n",
    "    return result\n",
    "\n",
    "if __name__ == \"__main__\":\n",
    "    pool=multiprocessing.Pool()\n",
    "    numbers=[1,2,3,4,5,6,7]\n",
    "    result = pool.map(sqaure,numbers)\n",
    "    pool.close()\n",
    "    pool.join()\n",
    "    print(result)"
   ]
  },
  {
   "cell_type": "markdown",
   "id": "ac60c5b2-7c52-4ba3-9f7d-e5b99f6246ba",
   "metadata": {},
   "source": [
    "Q6. Write a python program to create 4 processes, each process should print a different number using the\n",
    "multiprocessing module in python."
   ]
  },
  {
   "cell_type": "code",
   "execution_count": 7,
   "id": "c1410521-7c1d-4621-b17c-acc61f51c4e6",
   "metadata": {},
   "outputs": [
    {
     "name": "stdout",
     "output_type": "stream",
     "text": [
      "1\n",
      "211\n",
      "\n",
      "312\n",
      "\n",
      "21413\n",
      "\n",
      "\n",
      "22514\n",
      "\n",
      "31\n",
      "23615\n",
      "\n",
      "\n",
      "\n",
      "3224716\n",
      "\n",
      "\n",
      "\n",
      "3325817\n",
      "\n",
      "\n",
      "\n",
      "3426189\n",
      "\n",
      "\n",
      "\n",
      "352719\n",
      "\n",
      "\n",
      "3628\n",
      "\n",
      "3729\n",
      "\n",
      "38\n",
      "39\n"
     ]
    }
   ],
   "source": [
    "import multiprocessing\n",
    "\n",
    "def number1():\n",
    "    for i in range(1,10):\n",
    "        print(i)\n",
    "def number2():\n",
    "    for i in range(11,20):\n",
    "        print(i)\n",
    "def number3():\n",
    "    for i in range(21,30):\n",
    "        print(i)\n",
    "def number4():\n",
    "    for i in range(31,40):\n",
    "        print(i)\n",
    "        \n",
    "if __name__ == '__main__':\n",
    "    m1 = multiprocessing.Process(target = number1)\n",
    "    m2 = multiprocessing.Process(target = number2)\n",
    "    m3 = multiprocessing.Process(target = number3)\n",
    "    m4 = multiprocessing.Process(target = number4)\n",
    "    m1.start()\n",
    "    m2.start()\n",
    "    m3.start()\n",
    "    m4.start()\n",
    "    \n",
    "    m1.join()\n",
    "    m2.join() \n",
    "    m3.join()\n",
    "    m4.join()\n",
    "        "
   ]
  },
  {
   "cell_type": "code",
   "execution_count": null,
   "id": "39bbb2c1-1add-482c-bd13-13e90bfa0378",
   "metadata": {},
   "outputs": [],
   "source": []
  }
 ],
 "metadata": {
  "kernelspec": {
   "display_name": "Python 3 (ipykernel)",
   "language": "python",
   "name": "python3"
  },
  "language_info": {
   "codemirror_mode": {
    "name": "ipython",
    "version": 3
   },
   "file_extension": ".py",
   "mimetype": "text/x-python",
   "name": "python",
   "nbconvert_exporter": "python",
   "pygments_lexer": "ipython3",
   "version": "3.10.8"
  }
 },
 "nbformat": 4,
 "nbformat_minor": 5
}

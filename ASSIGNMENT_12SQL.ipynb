{
 "cells": [
  {
   "cell_type": "markdown",
   "id": "58431c4c",
   "metadata": {},
   "source": [
    "#Q1)What is a database? Differentiate between SQL and NoSQL databases."
   ]
  },
  {
   "cell_type": "markdown",
   "id": "ed1b5d90",
   "metadata": {},
   "source": [
    "ans - database is a collection of data or can say structured collection of data that is organized and stored for efficient retrival and manipulation.It serves as a centralized repository for storing and managing various types of data, such as text, numbers, images, and more.  \n",
    "\n",
    "sql is structured query language where data is arranged in the tables like collection consisting of rows and column in it \n",
    "data under the sql is stored in a well structured formate\n",
    "\n",
    "whereas,\n",
    "  no sql as name dipicts does not purely reli on the sql ,it is basically used to handle the unstructured data or semi strucutured data . No-Sql is mainly used for that type of data whose structure changes rapidly \n",
    "  "
   ]
  },
  {
   "cell_type": "markdown",
   "id": "ebebf816",
   "metadata": {},
   "source": [
    "Q2. What is DDL? Explain why CREATE, DROP, ALTER, and TRUNCATE are used with an example."
   ]
  },
  {
   "cell_type": "markdown",
   "id": "4f59669e",
   "metadata": {},
   "source": [
    "ans -- DDL stands for data defination language it is the subset of sql and are mainly used for altering the database objects like creating , modfying or deleting the tables , indexes etc..\n",
    "\n",
    "CREATE- is mainly used to create a new database objects such as table ,indexes etc\n",
    " for ex :-\n",
    "    \n",
    "     CREATE TABLE student(\n",
    "        student_id INT,\n",
    "        name VarChar(20),\n",
    "        roll_no INT\n",
    "        );\n",
    "        \n",
    "        \n",
    "DROP - is mainly used to delete the pre defined database objects such as tables indxex etc.\n",
    "\n",
    "for ex:-  \n",
    "\n",
    "     DROP TABLE students;\n",
    "\n",
    "\n",
    "ALTER - this is used to do  some changes or modifictaion in the existing database objects .\n",
    "  for ex:-\n",
    "          \n",
    "          ALTER TABLE student;\n",
    "          ADD fathers_name VARCHAR(20);\n",
    "\n",
    "TRUNCATE - it is the feature that is mainly used to delete the data in all the rows of tha table without harming the structure of the table \n",
    "  for ex:-\n",
    "        \n",
    "        TRUNCATE TABLE student;\n",
    "        "
   ]
  },
  {
   "cell_type": "markdown",
   "id": "3fc25e32",
   "metadata": {},
   "source": [
    "Q3. What is DML? Explain INSERT, UPDATE, and DELETE with an example."
   ]
  },
  {
   "cell_type": "markdown",
   "id": "464faabc",
   "metadata": {},
   "source": [
    "ans - DML stand for data maipulation language it is a subset of sql which is basically used to modify ,insert ,upadte or delete the data from the existing database tables \n",
    "\n",
    "INSERT:-\n",
    "       this is mainly used to insert the data in the table \n",
    "       for ex:-\n",
    "             \n",
    "             INSERT INTO students(student_roll_no,name,age)\n",
    "             VALUES(1,piyush ,20);\n",
    "             \n",
    "             \n",
    "UPDATE :-\n",
    "        this is mainly used to do changes in the table \n",
    "        \n",
    "        for ex :-\n",
    "             UPADTE students\n",
    "             SET age =19\n",
    "             WHERE student_roll_no = 1;\n",
    "             \n",
    "DELETE :- \n",
    "        this is used to delete the data from the table\n",
    "        \n",
    "        for ex:-\n",
    "                   DELETE FROM student\n",
    "                   WHERE studnet_roll_no = 1;\n",
    "                   "
   ]
  },
  {
   "cell_type": "markdown",
   "id": "00782df8",
   "metadata": {},
   "source": [
    "Q4. What is DQL? Explain SELECT with an example."
   ]
  },
  {
   "cell_type": "markdown",
   "id": "39b42156",
   "metadata": {},
   "source": [
    "ans - DQl stands for data query language it is also the subset of sql which is used to manipulate the data or can say is used to retrive the data with the help of SELECT fucntion or keyword\n",
    "\n",
    "\n",
    "     SELECT -  it is the keyword used to retrive the data from the database objects such as tables, indexes etc\n",
    "         \n",
    "         for ex:-\n",
    "         SELECT student\n",
    "         FROM students\n",
    "         WHERE age>18;\n",
    "         \n",
    "     "
   ]
  },
  {
   "cell_type": "markdown",
   "id": "e99a1f9f",
   "metadata": {},
   "source": [
    "Q5. Explain Primary Key and Foreign Key.\n"
   ]
  },
  {
   "cell_type": "markdown",
   "id": "76b05df1",
   "metadata": {},
   "source": [
    "ans  :-\n",
    "      primary key in a table is that values or column which is unique for each entity through which a particular row can be       classified \n",
    "     \n",
    "     whereas:-\n",
    "        \n",
    "      foreign key is the primary key of another table which is used to create the relation between the tables "
   ]
  },
  {
   "cell_type": "markdown",
   "id": "c1e05b91",
   "metadata": {},
   "source": [
    "Q6. Write a python code to connect MySQL to python. Explain the cursor() and execute() method."
   ]
  },
  {
   "cell_type": "markdown",
   "id": "a9b8a455",
   "metadata": {},
   "source": [
    "# ans - \n",
    "\n",
    "\n",
    "\n",
    "       import mysql.connector\n",
    "       mydb = mysql.connector.connect(\n",
    "       host = \"localhost\",\n",
    "       user = \"abc\",\n",
    "       password = \"password\")\n",
    "\n",
    "       print(mydb)\n",
    "       mycursor = mydb.cursor()\n",
    "       mycursor.execute(\"SHOW DATABASE\")\n",
    "       for x in mycursor:\n",
    "          print(x)\n",
    "\n",
    "       mydb.close()"
   ]
  },
  {
   "cell_type": "markdown",
   "id": "5fd3cb3b",
   "metadata": {},
   "source": [
    "cursor() is used to point the database objects into the database\n",
    "whereas \n",
    "\n",
    " execute() method is used to exectues the command lines of the programm in the sql"
   ]
  },
  {
   "cell_type": "markdown",
   "id": "f99c9fcb",
   "metadata": {},
   "source": [
    "Q7. Give the order of execution of SQL clauses in an SQL query."
   ]
  },
  {
   "cell_type": "markdown",
   "id": "44bd96a8",
   "metadata": {},
   "source": [
    "            ans -- SELECT\n",
    "                   FROM \n",
    "                   JOIN\n",
    "                   WHERE\n",
    "                   GROUP BY\n",
    "                   HAVING\n",
    "                   ORDER BY\n",
    "                   LIMIT/OFFSET\n"
   ]
  },
  {
   "cell_type": "code",
   "execution_count": null,
   "id": "ac4b8aec",
   "metadata": {},
   "outputs": [],
   "source": []
  }
 ],
 "metadata": {
  "kernelspec": {
   "display_name": "Python 3 (ipykernel)",
   "language": "python",
   "name": "python3"
  },
  "language_info": {
   "codemirror_mode": {
    "name": "ipython",
    "version": 3
   },
   "file_extension": ".py",
   "mimetype": "text/x-python",
   "name": "python",
   "nbconvert_exporter": "python",
   "pygments_lexer": "ipython3",
   "version": "3.11.3"
  }
 },
 "nbformat": 4,
 "nbformat_minor": 5
}

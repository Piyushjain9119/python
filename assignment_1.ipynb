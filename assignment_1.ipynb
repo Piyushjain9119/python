{
 "cells": [
  {
   "cell_type": "code",
   "execution_count": null,
   "id": "2866c847",
   "metadata": {},
   "outputs": [],
   "source": [
    "# Q1. Create one variable containing following type of data:"
   ]
  },
  {
   "cell_type": "code",
   "execution_count": 30,
   "id": "0bca7dcd",
   "metadata": {},
   "outputs": [
    {
     "data": {
      "text/plain": [
       "str"
      ]
     },
     "execution_count": 30,
     "metadata": {},
     "output_type": "execute_result"
    }
   ],
   "source": [
    "# (i)string\n",
    "a = \"pw skills\"\n",
    "type(a)"
   ]
  },
  {
   "cell_type": "code",
   "execution_count": 31,
   "id": "b0a63515",
   "metadata": {},
   "outputs": [
    {
     "data": {
      "text/plain": [
       "list"
      ]
     },
     "execution_count": 31,
     "metadata": {},
     "output_type": "execute_result"
    }
   ],
   "source": [
    "# (ii)list\n",
    "l1 = [1,2,3,4,5]\n",
    "type(l1)"
   ]
  },
  {
   "cell_type": "code",
   "execution_count": 32,
   "id": "cd6f18b0",
   "metadata": {},
   "outputs": [
    {
     "data": {
      "text/plain": [
       "float"
      ]
     },
     "execution_count": 32,
     "metadata": {},
     "output_type": "execute_result"
    }
   ],
   "source": [
    "# (iii)float\n",
    "b = 27.5\n",
    "type(b)"
   ]
  },
  {
   "cell_type": "code",
   "execution_count": 33,
   "id": "656d031c",
   "metadata": {},
   "outputs": [
    {
     "data": {
      "text/plain": [
       "tuple"
      ]
     },
     "execution_count": 33,
     "metadata": {},
     "output_type": "execute_result"
    }
   ],
   "source": [
    "# (iv)tuple\n",
    "t1 = (1,2,3,4,5)\n",
    "type(t1)"
   ]
  },
  {
   "cell_type": "code",
   "execution_count": 34,
   "id": "5f8e11dd",
   "metadata": {},
   "outputs": [],
   "source": [
    "# Q2. Given are some following variables containing data:"
   ]
  },
  {
   "cell_type": "code",
   "execution_count": 35,
   "id": "31970e13",
   "metadata": {},
   "outputs": [
    {
     "data": {
      "text/plain": [
       "str"
      ]
     },
     "execution_count": 35,
     "metadata": {},
     "output_type": "execute_result"
    }
   ],
   "source": [
    "# (i) var1 = ‘ ‘ \n",
    "var1 = ' '\n",
    "type(var1) #returns type or var1 that is string "
   ]
  },
  {
   "cell_type": "code",
   "execution_count": 36,
   "id": "1be97958",
   "metadata": {},
   "outputs": [
    {
     "ename": "IndentationError",
     "evalue": "unexpected indent (619071050.py, line 2)",
     "output_type": "error",
     "traceback": [
      "\u001b[1;36m  Cell \u001b[1;32mIn[36], line 2\u001b[1;36m\u001b[0m\n\u001b[1;33m    var2 = '[ds,ml,python]'\u001b[0m\n\u001b[1;37m    ^\u001b[0m\n\u001b[1;31mIndentationError\u001b[0m\u001b[1;31m:\u001b[0m unexpected indent\n"
     ]
    }
   ],
   "source": [
    "# (ii) var2 = ‘[ DS , ML , Python]’\n",
    " var2 = '[ds,ml,python]'\n",
    " type(var2)\n",
    "#returns error becoz it the string containing list doesnt have the defined data in it "
   ]
  },
  {
   "cell_type": "code",
   "execution_count": 37,
   "id": "93df9b40",
   "metadata": {},
   "outputs": [
    {
     "data": {
      "text/plain": [
       "list"
      ]
     },
     "execution_count": 37,
     "metadata": {},
     "output_type": "execute_result"
    }
   ],
   "source": [
    "# (iii) var3 = [ ‘DS’ , ’ML’ , ‘Python’ \n",
    "var3 =['ds','ml','python']\n",
    "type(var3)\n",
    "#data type of this var3 is list"
   ]
  },
  {
   "cell_type": "code",
   "execution_count": 38,
   "id": "39e80fb0",
   "metadata": {},
   "outputs": [
    {
     "data": {
      "text/plain": [
       "float"
      ]
     },
     "execution_count": 38,
     "metadata": {},
     "output_type": "execute_result"
    }
   ],
   "source": [
    "# (iv) var4 = 1.\n",
    "var4 = 1.\n",
    "type(var4)\n",
    "# data type of var4 is float"
   ]
  },
  {
   "cell_type": "code",
   "execution_count": 39,
   "id": "b0860dd7",
   "metadata": {},
   "outputs": [],
   "source": [
    "# Q3. Explain the use of the following operators using an example:"
   ]
  },
  {
   "cell_type": "code",
   "execution_count": 40,
   "id": "503a41e9",
   "metadata": {},
   "outputs": [],
   "source": [
    "a =10\n",
    "b =2"
   ]
  },
  {
   "cell_type": "code",
   "execution_count": 41,
   "id": "6f80125f",
   "metadata": {},
   "outputs": [
    {
     "data": {
      "text/plain": [
       "5.0"
      ]
     },
     "execution_count": 41,
     "metadata": {},
     "output_type": "execute_result"
    }
   ],
   "source": [
    "# / operator use for division\n",
    "c=a/b\n",
    "c"
   ]
  },
  {
   "cell_type": "code",
   "execution_count": 42,
   "id": "6bc0b492",
   "metadata": {},
   "outputs": [
    {
     "data": {
      "text/plain": [
       "0"
      ]
     },
     "execution_count": 42,
     "metadata": {},
     "output_type": "execute_result"
    }
   ],
   "source": [
    "# % operator use for finding the remainder of the question\n",
    "c =a%b\n",
    "c"
   ]
  },
  {
   "cell_type": "code",
   "execution_count": 43,
   "id": "ae9f3d6f",
   "metadata": {},
   "outputs": [
    {
     "data": {
      "text/plain": [
       "5"
      ]
     },
     "execution_count": 43,
     "metadata": {},
     "output_type": "execute_result"
    }
   ],
   "source": [
    "#// operator used to get the interger value neglecting the floating no or can say the decimals no\n",
    "c =a//b\n",
    "c"
   ]
  },
  {
   "cell_type": "code",
   "execution_count": 44,
   "id": "9519718f",
   "metadata": {},
   "outputs": [
    {
     "data": {
      "text/plain": [
       "100"
      ]
     },
     "execution_count": 44,
     "metadata": {},
     "output_type": "execute_result"
    }
   ],
   "source": [
    "# ** operator used for finding the exponent of the  given no\n",
    "c = a**b\n",
    "c"
   ]
  },
  {
   "cell_type": "code",
   "execution_count": 45,
   "id": "c12f7453",
   "metadata": {},
   "outputs": [],
   "source": [
    "#Q4. Create a list of length 10 of your choice containing multiple types of data. Using for loop print the\n",
    "#element and its data type.\n"
   ]
  },
  {
   "cell_type": "code",
   "execution_count": 46,
   "id": "37f4565c",
   "metadata": {},
   "outputs": [],
   "source": [
    "list1 = [ 1, 2, 'sam', 'pwskills', 3.55, [1,2,3,4,5], 'hello', 9.10, 4 , 5]\n"
   ]
  },
  {
   "cell_type": "code",
   "execution_count": 47,
   "id": "14d7854e",
   "metadata": {},
   "outputs": [
    {
     "name": "stdout",
     "output_type": "stream",
     "text": [
      "1 <class 'int'>\n",
      "2 <class 'int'>\n",
      "sam <class 'str'>\n",
      "pwskills <class 'str'>\n",
      "3.55 <class 'float'>\n",
      "[1, 2, 3, 4, 5] <class 'list'>\n",
      "hello <class 'str'>\n",
      "9.1 <class 'float'>\n",
      "4 <class 'int'>\n",
      "5 <class 'int'>\n"
     ]
    }
   ],
   "source": [
    "for i in list1:\n",
    "    print(i,type(i))\n",
    "    "
   ]
  },
  {
   "cell_type": "code",
   "execution_count": 48,
   "id": "8970d1b1",
   "metadata": {},
   "outputs": [],
   "source": [
    "# Q5. Using a while loop, verify if the number A is purely divisible by number B and if so then how many\n",
    "# times it can be divisible."
   ]
  },
  {
   "cell_type": "code",
   "execution_count": 49,
   "id": "c519bbba",
   "metadata": {},
   "outputs": [],
   "source": [
    "a =27\n",
    "b=3\n",
    "count=0"
   ]
  },
  {
   "cell_type": "code",
   "execution_count": 50,
   "id": "a81f989c",
   "metadata": {},
   "outputs": [
    {
     "name": "stdout",
     "output_type": "stream",
     "text": [
      "3\n"
     ]
    }
   ],
   "source": [
    "while a%b==0:\n",
    "    count+=1\n",
    "    a=a/b\n",
    "print(count)\n",
    "# here count show the no of times a can be divided by b "
   ]
  },
  {
   "cell_type": "code",
   "execution_count": 51,
   "id": "f1cdd2b0",
   "metadata": {},
   "outputs": [],
   "source": [
    "# Q6. Create a list containing 25 int type data. Using for loop and if-else condition print if the element is\n",
    "# divisible by 3 or not.\n",
    "    \n",
    "    "
   ]
  },
  {
   "cell_type": "code",
   "execution_count": 52,
   "id": "7b2170f1",
   "metadata": {},
   "outputs": [],
   "source": [
    "list2 =[1,2,3,4,5,6,7,8,9,10,11,12,13,14,15,16,17,18,19,20,21,22,23,24,25]"
   ]
  },
  {
   "cell_type": "code",
   "execution_count": 53,
   "id": "9b522c40",
   "metadata": {},
   "outputs": [
    {
     "name": "stdout",
     "output_type": "stream",
     "text": [
      "1 is not divisible by 3\n",
      "2 is not divisible by 3\n",
      "3  is divisible by 3\n",
      "4 is not divisible by 3\n",
      "5 is not divisible by 3\n",
      "6  is divisible by 3\n",
      "7 is not divisible by 3\n",
      "8 is not divisible by 3\n",
      "9  is divisible by 3\n",
      "10 is not divisible by 3\n",
      "11 is not divisible by 3\n",
      "12  is divisible by 3\n",
      "13 is not divisible by 3\n",
      "14 is not divisible by 3\n",
      "15  is divisible by 3\n",
      "16 is not divisible by 3\n",
      "17 is not divisible by 3\n",
      "18  is divisible by 3\n",
      "19 is not divisible by 3\n",
      "20 is not divisible by 3\n",
      "21  is divisible by 3\n",
      "22 is not divisible by 3\n",
      "23 is not divisible by 3\n",
      "24  is divisible by 3\n",
      "25 is not divisible by 3\n"
     ]
    }
   ],
   "source": [
    "for i in list2:\n",
    "    if i%3==0:\n",
    "        print(i ,\" is divisible by 3\")\n",
    "    \n",
    "    else:\n",
    "        print(i , \"is not divisible by 3\")"
   ]
  },
  {
   "cell_type": "code",
   "execution_count": 54,
   "id": "0c78286a",
   "metadata": {},
   "outputs": [],
   "source": [
    "# Q7. What do you understand about mutable and immutable data types? Give examples for both showing\n",
    "# this property."
   ]
  },
  {
   "cell_type": "code",
   "execution_count": 55,
   "id": "ee0d2345",
   "metadata": {},
   "outputs": [
    {
     "data": {
      "text/plain": [
       "' mutable data types are those data types which can be edited or can say whic data types can be change at any point \\nand immutable data types are those data types which cannot be changed after its inistialisation\\nfor ex-->  string is and immutable data type  and list is an mutable data type'"
      ]
     },
     "execution_count": 55,
     "metadata": {},
     "output_type": "execute_result"
    }
   ],
   "source": [
    "''' mutable data types are those data types which can be edited or can say whic data types can be change at any point \n",
    "and immutable data types are those data types which cannot be changed after its inistialisation\n",
    "for ex-->  string is and immutable data type  and list is an mutable data type'''"
   ]
  },
  {
   "cell_type": "code",
   "execution_count": 56,
   "id": "ce68a9ce",
   "metadata": {},
   "outputs": [
    {
     "data": {
      "text/plain": [
       "list"
      ]
     },
     "execution_count": 56,
     "metadata": {},
     "output_type": "execute_result"
    }
   ],
   "source": [
    "a=[ 1,2,3,4]\n",
    "type(a)"
   ]
  },
  {
   "cell_type": "code",
   "execution_count": 57,
   "id": "2913ece7",
   "metadata": {},
   "outputs": [
    {
     "data": {
      "text/plain": [
       "[1, 'hello', 3, 4]"
      ]
     },
     "execution_count": 57,
     "metadata": {},
     "output_type": "execute_result"
    }
   ],
   "source": [
    "a[1]='hello'\n",
    "a"
   ]
  },
  {
   "cell_type": "code",
   "execution_count": 58,
   "id": "8e40b49c",
   "metadata": {},
   "outputs": [],
   "source": [
    "b='string'"
   ]
  },
  {
   "cell_type": "code",
   "execution_count": 59,
   "id": "f1a40ef4",
   "metadata": {},
   "outputs": [
    {
     "data": {
      "text/plain": [
       "'t'"
      ]
     },
     "execution_count": 59,
     "metadata": {},
     "output_type": "execute_result"
    }
   ],
   "source": [
    "b[1]"
   ]
  },
  {
   "cell_type": "code",
   "execution_count": 60,
   "id": "2ad24113",
   "metadata": {},
   "outputs": [
    {
     "ename": "TypeError",
     "evalue": "'str' object does not support item assignment",
     "output_type": "error",
     "traceback": [
      "\u001b[1;31m---------------------------------------------------------------------------\u001b[0m",
      "\u001b[1;31mTypeError\u001b[0m                                 Traceback (most recent call last)",
      "Cell \u001b[1;32mIn[60], line 1\u001b[0m\n\u001b[1;32m----> 1\u001b[0m b[\u001b[38;5;241m1\u001b[39m]\u001b[38;5;241m=\u001b[39m\u001b[38;5;124m'\u001b[39m\u001b[38;5;124mm\u001b[39m\u001b[38;5;124m'\u001b[39m\n",
      "\u001b[1;31mTypeError\u001b[0m: 'str' object does not support item assignment"
     ]
    }
   ],
   "source": [
    "b[1]='m'\n",
    "#error pops out as string does not support item assignment"
   ]
  },
  {
   "cell_type": "code",
   "execution_count": null,
   "id": "885db939",
   "metadata": {},
   "outputs": [],
   "source": []
  }
 ],
 "metadata": {
  "kernelspec": {
   "display_name": "Python 3 (ipykernel)",
   "language": "python",
   "name": "python3"
  },
  "language_info": {
   "codemirror_mode": {
    "name": "ipython",
    "version": 3
   },
   "file_extension": ".py",
   "mimetype": "text/x-python",
   "name": "python",
   "nbconvert_exporter": "python",
   "pygments_lexer": "ipython3",
   "version": "3.11.3"
  }
 },
 "nbformat": 4,
 "nbformat_minor": 5
}

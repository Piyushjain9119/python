{
 "cells": [
  {
   "cell_type": "markdown",
   "id": "2de61978",
   "metadata": {},
   "source": [
    "# Q1. What is Statistics?"
   ]
  },
  {
   "cell_type": "markdown",
   "id": "8ec8ec20",
   "metadata": {},
   "source": [
    "ans - statistics is the science of collecting ,organising and analysing data \n",
    "             \n",
    "       Statistics is a branch of mathematics and a field of study that deals with the collection, organization, analysis, interpretation, and presentation of data. It involves the use of mathematical techniques and principles to extract meaningful information from data and make informed decisions or draw conclusions."
   ]
  },
  {
   "cell_type": "markdown",
   "id": "4b24f558",
   "metadata": {},
   "source": [
    "# Q2. Define the different types of statistics and give an example of when each type might be used."
   ]
  },
  {
   "cell_type": "markdown",
   "id": "2bff7211",
   "metadata": {},
   "source": [
    "ans - there are two different types of statistics \n",
    "\n",
    "    1.Descriptive :\n",
    "                  this type of stats consist of organising and summerizing data \n",
    "                  for ex:- measure of central tendency like (mean,median ,mode)\n",
    "    2.Inferential: \n",
    "                 those type of stats consist of using data you have measured to form conclusion\n",
    "                 for ex- k type test,p test etc .\n",
    "                 in this type of stats we find the conclusion o the basis of the sample data over popuation data \n",
    "                 like an exit poll we collect samples of data to find the result of a particular area\n"
   ]
  },
  {
   "cell_type": "markdown",
   "id": "74770df5",
   "metadata": {},
   "source": [
    "# Q3. What are the different types of data and how do they differ from each other? Provide an example of each type of data."
   ]
  },
  {
   "cell_type": "markdown",
   "id": "bac21475",
   "metadata": {},
   "source": [
    "ans - there are two types of data \n",
    "1. QUALITATIVE :-\n",
    "               \n",
    "               qualitative data are categorical data which can't be defined numerically \n",
    "               they are of two types :-\n",
    "               1. nominal\n",
    "               2. ordinal\n",
    "               \n",
    "2. QUANTITATIVE :-\n",
    "               \n",
    "               quantitative data are numerical data which are defined in the form of values \n",
    "               they are of two types :-\n",
    "               1. discrete\n",
    "               2. continous\n",
    "\n",
    "    "
   ]
  },
  {
   "cell_type": "markdown",
   "id": "b893ed53",
   "metadata": {},
   "source": [
    "# Q4. Categorise the following datasets with respect to quantitative and qualitative data types:\n",
    "    (i) Grading in exam: A+, A, B+, B, C+, C, D, E\n",
    "    (ii) Colour of mangoes: yellow, green, orange, red\n",
    "    (iii) Height data of a class: [178.9, 179, 179.5, 176, 177.2, 178.3, 175.8,...]\n",
    "    (iv) Number of mangoes exported by a farm: [500, 600, 478, 672, ...]"
   ]
  },
  {
   "cell_type": "markdown",
   "id": "d01bb972",
   "metadata": {},
   "source": [
    "ans - (i) Grading in exam: A+, A, B+, B, C+, C, D, E\n",
    "            \n",
    "          this datasets is qualitative ordinal data\n",
    "          \n",
    "      (ii) Colour of mangoes: yellow, green, orange, red\n",
    "      \n",
    "          this dataset is also qualitative nominal data \n",
    "          \n",
    "      (iii) Height data of a class: [178.9, 179, 179.5, 176, 177.2, 178.3, 175.8,...]\n",
    "           \n",
    "           this dataset is quantitative continous data type \n",
    "           \n",
    "      (iv) Number of mangoes exported by a farm: [500, 600, 478, 672, ...]\n",
    "      \n",
    "          this dataset is also quantitative discrete data type"
   ]
  },
  {
   "cell_type": "markdown",
   "id": "b1f24e6e",
   "metadata": {},
   "source": [
    "# Q5. Explain the concept of levels of measurement and give an example of a variable for each level."
   ]
  },
  {
   "cell_type": "markdown",
   "id": "bb1a5041",
   "metadata": {},
   "source": [
    "ans - the concept of levels of measurement, also known as scales of measurement, refers to the ways in which variables are measured and the properties associated with those measurements. There are four commonly recognized levels of measurement: nominal, ordinal, interval, and ratio. Each level has unique characteristics and determines the types of mathematical operations and statistical analyses that can be applied to the variable.\n",
    "\n",
    "1. Nominal Level: Categorical variables without an inherent order. Example: Eye color (Blue, Green, Brown)\n",
    "2. Ordinal Level: Categorical variables with a natural order or ranking. Example: Educational attainment (High School, Bachelor's, Master's, Ph.D.)\n",
    "3. Interval Level: Numerical variables with equal intervals but no true zero point. Example: Temperature in Celsius (20°C, 30°C, 40°C)\n",
    "4. Ratio Level: Numerical variables with equal intervals and a true zero point. Example: Height (in centimeters) (150 cm, 165 cm, 180 cm)"
   ]
  },
  {
   "cell_type": "markdown",
   "id": "a00e03c3",
   "metadata": {},
   "source": [
    "# Q6. Why is it important to understand the level of measurement when analyzing data? Provide an example to illustrate your answer."
   ]
  },
  {
   "cell_type": "markdown",
   "id": "1c905937",
   "metadata": {},
   "source": [
    "ans - Understanding the level of measurement is important when analyzing data because it guides the selection of appropriate statistical techniques and prevents misleading interpretations. For example, mistakenly treating ordinal data as interval or ratio data can lead to incorrect calculations and misleading results."
   ]
  },
  {
   "cell_type": "markdown",
   "id": "677c5797",
   "metadata": {},
   "source": [
    "# Q7. How nominal data type is different from ordinal data type."
   ]
  },
  {
   "cell_type": "markdown",
   "id": "95c7af7f",
   "metadata": {},
   "source": [
    " ans-\n",
    "      \n",
    "      nominal data type is qualitative/ categorical type of data in which order does not matters \n",
    "    for eg :- gender(M/F) , colors(RED, BLUE , ORANGE ) , labels etc.\n",
    "\n",
    "        \n",
    "       ordinal data types are also qualitative data but in this data type ranking is important in this data type order also matters and difference between each other cannont be measured "
   ]
  },
  {
   "cell_type": "markdown",
   "id": "e4de2233",
   "metadata": {},
   "source": [
    "# Q8. Which type of plot can be used to display data in terms of range?"
   ]
  },
  {
   "cell_type": "markdown",
   "id": "5b379741",
   "metadata": {},
   "source": [
    "ans -\n",
    "A type of plot that can be used to display data in terms of range is a box plot, also known as a box-and-whisker plot. The box plot provides a visual representation of the minimum, maximum, median, and quartiles (25th and 75th percentiles) of a dataset. It allows for a quick summary of the data's central tendency, variability, and any potential outliers. The \"box\" in the plot represents the interquartile range (IQR), which captures the range between the first and third quartiles. The \"whiskers\" extend to the minimum and maximum values within a certain range or may include outliers. Box plots are particularly useful when comparing multiple groups or distributions side by side."
   ]
  },
  {
   "cell_type": "markdown",
   "id": "9f664ce1",
   "metadata": {},
   "source": [
    "# Q9. Describe the difference between descriptive and inferential statistics. Give an example of each type of statistics and explain how they are used."
   ]
  },
  {
   "cell_type": "markdown",
   "id": "35fd191c",
   "metadata": {},
   "source": [
    "ans - Descriptive Statistics: Descriptive statistics involves summarizing, organizing, and describing data to provide meaningful insights about its characteristics. It focuses on the analysis of the observed data itself. Descriptive statistics encompasses measures of central tendency (e.g., mean, median, mode) and measures of variability (e.g., range, variance, standard deviation). It also includes graphical representations such as histograms, bar charts, and scatter plots.\n",
    "\n",
    "Example: Suppose we have collected data on the heights of students in a class. Descriptive statistics would involve calculating the average height (mean), identifying the most common height (mode), and measuring the spread of heights (standard deviation). These measures provide a clear summary of the data and allow us to describe the characteristics of the class's heights.\n",
    "\n",
    "Inferential Statistics: Inferential statistics involves drawing conclusions, making predictions, or generalizing findings about a larger population based on sample data. It uses probability theory and statistical techniques to make inferences beyond the specific data observed. Inferential statistics includes hypothesis testing, confidence intervals, regression analysis, and sampling techniques.\n",
    "\n",
    "Example: Consider a study investigating the impact of a new teaching method on student performance. A sample of students is randomly assigned to either the experimental group or the control group. Inferential statistics would be used to analyze the data and determine if there is a statistically significant difference in the performance of the two groups. The findings from the sample would then be generalized to the larger population of students to make conclusions about the effectiveness of the teaching method."
   ]
  },
  {
   "cell_type": "markdown",
   "id": "6ec61d71",
   "metadata": {},
   "source": [
    "# Q10. What are some common measures of central tendency and variability used in statistics? Explain how each measure can be used to describe a dataset."
   ]
  },
  {
   "cell_type": "markdown",
   "id": "1d13eba3",
   "metadata": {},
   "source": [
    "ans - \n",
    "1. Mean: The mean is the average value of a dataset. It is calculated by summing all the values and dividing by the total number of observations. The mean provides a measure of the central value and is useful for understanding the typical value in a dataset. However, it can be sensitive to outliers.\n",
    "\n",
    "2. Median: The median is the middle value in an ordered dataset. It is not affected by extreme values and provides a measure of the central tendency that is resistant to outliers. The median is particularly useful when the data is skewed or contains outliers.\n",
    "\n",
    "3. Mode: The mode is the most frequently occurring value in a dataset. It represents the value or values that appear with the highest frequency. The mode is useful for identifying the most common category or value in a dataset, especially in categorical or discrete data.\n",
    "\n",
    "4. Range: The range is the difference between the maximum and minimum values in a dataset. It provides a measure of the spread or variability of the data, but it is sensitive to extreme values and may not capture the entire range of values.\n",
    "\n",
    "5. Variance: The variance measures the average squared deviation from the mean. It quantifies the dispersion or variability of the dataset. A higher variance indicates greater spread or variability in the data.\n",
    "\n",
    "6. Standard Deviation: The standard deviation is the square root of the variance. It provides a measure of the average distance between each data point and the mean. The standard deviation is widely used as a measure of variability and provides a standardized metric that is easier to interpret than the variance."
   ]
  },
  {
   "cell_type": "code",
   "execution_count": null,
   "id": "8cf1a35e",
   "metadata": {},
   "outputs": [],
   "source": []
  }
 ],
 "metadata": {
  "kernelspec": {
   "display_name": "Python 3 (ipykernel)",
   "language": "python",
   "name": "python3"
  },
  "language_info": {
   "codemirror_mode": {
    "name": "ipython",
    "version": 3
   },
   "file_extension": ".py",
   "mimetype": "text/x-python",
   "name": "python",
   "nbconvert_exporter": "python",
   "pygments_lexer": "ipython3",
   "version": "3.11.3"
  }
 },
 "nbformat": 4,
 "nbformat_minor": 5
}

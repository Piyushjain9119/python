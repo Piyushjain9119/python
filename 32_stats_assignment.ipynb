{
 "cells": [
  {
   "cell_type": "markdown",
   "id": "a67db720",
   "metadata": {},
   "source": [
    "# Q1: What is the difference between a t-test and a z-test? Provide an example scenario where you would use each type of test.\n"
   ]
  },
  {
   "cell_type": "markdown",
   "id": "a3d11414",
   "metadata": {},
   "source": [
    "ans - \n",
    "    The main difference between a t-test and a z-test lies in the assumptions made about the population variance. A t-test is used when the population variance is unknown, and the sample size is relatively small, while a z-test is used when the population variance is known or when the sample size is large.\n",
    "\n",
    "    Here are example scenarios where you would use each type of test:\n",
    "\n",
    "    T-Test: Scenario: A researcher wants to compare the effectiveness of two different teaching methods on student performance. They randomly assign 20 students to each teaching method and measure their test scores. The researcher wants to determine if there is a significant difference in the mean test scores between the two groups. In this case, a t-test would be appropriate because the population variance is unknown, and the sample size is relatively small (n = 20).\n",
    "\n",
    "    Z-Test: Scenario: An electronics manufacturer produces a certain type of component, and the weight of each component follows a known normal distribution with a known population variance. The manufacturer wants to test if the average weight of a sample of components is significantly different from a target weight. In this case, a z-test would be appropriate because the population variance is known, and the sample size is likely to be large. This allows for the use of the standard normal distribution (z-distribution) to calculate the test statistic."
   ]
  },
  {
   "cell_type": "markdown",
   "id": "b27381a9",
   "metadata": {},
   "source": [
    "# Q2: Differentiate between one-tailed and two-tailed tests."
   ]
  },
  {
   "cell_type": "markdown",
   "id": "257ded77",
   "metadata": {},
   "source": [
    "ans --\n",
    " One-Tailed Test:\n",
    "\n",
    "1. In a one-tailed test, the alternative hypothesis is directional and specifies the expected difference or relationship in a specific direction.\n",
    "2. It tests if the population parameter is significantly greater than or less than a certain value.\n",
    "3. The critical region is located in one tail of the sampling distribution, either in the right or left tail.\n",
    "4. The test focuses on detecting an effect in a specific direction.\n",
    "5. One-tailed tests are generally used when there is a specific expectation or hypothesis about the direction of the effect.\n",
    "6. They are more powerful (sensitive) in detecting an effect in the specified direction.\n",
    "    Example: A researcher hypothesizes that a new medication will increase the average response time of participants. The alternative hypothesis would be one-tailed, such as H1: μ > 0, indicating an expected increase in response time.\n",
    "\n",
    "Two-Tailed Test:\n",
    "\n",
    "1. In a two-tailed test, the alternative hypothesis is non-directional and simply states that there is a difference or relationship between the variables.\n",
    "2. It tests if the population parameter is significantly different from a certain value, without specifying the direction.\n",
    "3. The critical region is split between both tails of the sampling distribution, equally divided.\n",
    "4. The test focuses on detecting any significant difference, regardless of the direction.\n",
    "5. Two-tailed tests are commonly used when there is no specific expectation about the direction of the effect or when exploring the possibility of an effect in either direction.\n",
    "6. They are generally less powerful than one-tailed tests because they spread the significance level across both tails.\n",
    "    Example: A researcher wants to determine if there is a difference in the mean test scores between two groups. The alternative hypothesis would be two-tailed, such as H1: μ1 ≠ μ2, indicating that there is a difference, but not specifying the direction."
   ]
  },
  {
   "cell_type": "markdown",
   "id": "dff807e3",
   "metadata": {},
   "source": [
    "# Q3: Explain the concept of Type 1 and Type 2 errors in hypothesis testing. Provide an example scenario for each type of error."
   ]
  },
  {
   "cell_type": "markdown",
   "id": "8e69005c",
   "metadata": {},
   "source": [
    "ans \n",
    " 1. type 1 error - when in the reality null hypothesis is true and we reject the null hypothesis\n",
    " 2. type 2 error - when in the reality null hypothesis is false and we retain the null hypothesis\n",
    "   an perfect example for the type 1 and type 2 error can be for example :\n",
    "            \n",
    "            in a court a person who is not guilty in real but the court verdict is that the person is guilty (this can be an                     example of type 1 error )\n",
    "             also a perosn who is actually guilty but he remains unguilty or free (can be the example of type 2 error )\n",
    "             \n",
    "   \n",
    "                                                                                                    \n",
    "                                                                                                   "
   ]
  },
  {
   "cell_type": "markdown",
   "id": "6b7e9203",
   "metadata": {},
   "source": [
    "# Q4: Explain Bayes's theorem with an example."
   ]
  },
  {
   "cell_type": "markdown",
   "id": "f03d9a3d",
   "metadata": {},
   "source": [
    "ans -- bayesian statistics is an approach to data analysis and the parameter estimation based on bayes's theorem \n",
    "bayes's theorem is  describes the probability of an event, based on prior knowledge of conditions\n",
    "there are two type of probability i.e independent and another is dependent bayes's theorem is used in dependent probabilty in which the probability of happening an event is dependent on the event happening before\n",
    "\n",
    " Bayes's theorem states:\n",
    "\n",
    "P(A|B) = [P(B|A) * P(A)] / P(B)\n",
    "\n",
    "where:\n",
    "\n",
    "* P(A|B) represents the probability of event A occurring given that event B has occurred.\n",
    "* P(B|A) represents the probability of event B occurring given that event A has occurred.\n",
    "* P(A) and P(B) represent the probabilities of events A and B occurring independently.\n",
    "\n",
    "for ex : a bag contains 2 red and 3 yellow balls then the probability of getting red ball is 2/5 and then probabilty of getting yellow balls is 3/4 becoz one ball is already drawned \n",
    " "
   ]
  },
  {
   "cell_type": "markdown",
   "id": "004479e0",
   "metadata": {},
   "source": [
    "# Q5: What is a confidence interval? How to calculate the confidence interval, explain with an example"
   ]
  },
  {
   "cell_type": "markdown",
   "id": "b0eff3a5",
   "metadata": {},
   "source": [
    "ans -- A confidence interval is a range of values that provides an estimate of the likely range of the population parameter based on sample data. It measures the uncertainty or variability associated with the estimate.\n",
    "we construct a confidence interval to help estimate what the actual value of the unknown population mean is  \n",
    "point estimate (+-)margine of error\n",
    "\n",
    "it can be calculated by evaluatinf the formula of z test to find the confidence interval\n",
    "\n",
    "for ex :=To calculate a 95% confidence interval for the population mean height:\n",
    "\n",
    "Determine the critical value (e.g., using a Z-table or Z-score) corresponding to a 95% confidence level, which is typically 1.96 for a large sample size. Calculate the standard error by dividing the sample standard deviation by the square root of the sample size. Multiply the standard error by the critical value to find the margin of error. Construct the confidence interval by subtracting and adding the margin of error from the sample mean."
   ]
  },
  {
   "cell_type": "markdown",
   "id": "f3d64673",
   "metadata": {},
   "source": [
    "# Q6. Use Bayes' Theorem to calculate the probability of an event occurring given prior knowledge of the event's probability and new evidence. Provide a sample problem and solution."
   ]
  },
  {
   "cell_type": "markdown",
   "id": "27f6cebe",
   "metadata": {},
   "source": [
    "Problem: Suppose a rare disease affects 1 in every 10,000 people in a population. A test for this disease is 99% accurate. If a person tests positive for the disease, what is the probability they actually have it?\n",
    "\n",
    "Solution:\n",
    "\n",
    "Using Bayes' Theorem:\n",
    "\n",
    "    P(Disease) = 1/10,000 (prior probability of having the disease)\n",
    "    P(Positive|Disease) = 0.99 (probability of testing positive given the person has the disease)\n",
    "    P(Positive|No Disease) = 0.01 (probability of testing positive given the person does not have the disease)\n",
    "    P(Disease|Positive) ≈ 0.0098 or 0.98%\n",
    "    Therefore, the probability of actually having the disease, given a positive test result, is approximately 0.98% or 0.0098."
   ]
  },
  {
   "cell_type": "markdown",
   "id": "b660b785",
   "metadata": {},
   "source": [
    "# Q7. Calculate the 95% confidence interval for a sample of data with a mean of 50 and a standard deviationof 5. Interpret the results."
   ]
  },
  {
   "cell_type": "markdown",
   "id": "9fba8857",
   "metadata": {},
   "source": [
    "ans - we can't calculate the confindence interval without having the size of sample data however it will look like:-\n",
    "\n",
    "ztest = 50 (+-)1.96 * 5/(n)^1/2"
   ]
  },
  {
   "cell_type": "markdown",
   "id": "a1fbaea2",
   "metadata": {},
   "source": [
    "# Q8. What is the margin of error in a confidence interval? How does sample size affect the margin of error? Provide an example of a scenario where a larger sample size would result in a smaller margin of error."
   ]
  },
  {
   "cell_type": "markdown",
   "id": "e237554d",
   "metadata": {},
   "source": [
    "ans -- basically we calculate a range known to be as confidence interval to get a particular range that our mean will lie between the confidence interval we found but also there are some - + in the calcuation of confidence interval which is mainly called as margin of error \n",
    "\n",
    "\n",
    "sample size is indrectly proportional to the margin of error as if the size of sample increases the margine of error decreases\n",
    "and vice versa\n",
    "\n",
    "For example, let's consider a scenario where we want to estimate the average height of students in a school. We take two different sample sizes: Sample A with 50 students and Sample B with 500 students.\n",
    "\n",
    "In Sample A (smaller sample size), the margin of error might be around ±3 inches. This means that the true population mean height is likely to be within 3 inches of the sample mean.\n",
    "\n",
    "In Sample B (larger sample size), the margin of error might be reduced to ±1 inch. With a larger sample size, the estimate becomes more precise, and we can be more confident about the range within which the true population mean height lies.\n",
    "\n",
    "Thus, a larger sample size decreases the margin of error and provides a more precise estimate of the population parameter."
   ]
  },
  {
   "cell_type": "markdown",
   "id": "3cd9ecee",
   "metadata": {},
   "source": [
    " # Q9. Calculate the z-score for a data point with a value of 75, a population mean of 70, and a population standard deviation of 5. Interpret the results."
   ]
  },
  {
   "cell_type": "markdown",
   "id": "43b7121b",
   "metadata": {},
   "source": [
    "ans -- To calculate the z-score, we use the formula:\n",
    "\n",
    "    z = (x - μ) / σ\n",
    "\n",
    "    where:\n",
    "\n",
    "    x = value of the data point\n",
    "    μ = population mean\n",
    "    σ = population standard deviation\n",
    "    Given:\n",
    "\n",
    "    x = 75\n",
    "    μ = 70\n",
    "    σ = 5\n",
    "    Plugging in the values:\n",
    "\n",
    "    z = (75 - 70) / 5\n",
    "    z = 5 / 5\n",
    "    z = 1\n",
    "    The calculated z-score is 1.\n",
    "\n",
    "A positive z-score indicates that the data point is above the mean, while a negative z-score would indicate that the data point is below the mean. In this scenario, the z-score of 1 suggests that the data point is one standard deviation above the population mean."
   ]
  },
  {
   "cell_type": "markdown",
   "id": "a29f3140",
   "metadata": {},
   "source": [
    "# Q10. In a study of the effectiveness of a new weight loss drug, a sample of 50 participants lost an average of 6 pounds with a standard deviation of 2.5 pounds. Conduct a hypothesis test to determine if the drug is significantly effective at a 95% confidence level using a t-test."
   ]
  },
  {
   "cell_type": "markdown",
   "id": "7f25d8a5",
   "metadata": {},
   "source": [
    "    ans -- given :- sample mean = 6 \n",
    "                    number if samples (n) = 50\n",
    "                    standard deviation = 2.5\n",
    "                    ci = 95%\n",
    "                    lemda = 0.05\n",
    "           solution = \n",
    "              1. h0(null hypothesis) = the new weight loss drug is significantly effiective and the avergae weight loss is 0                       i.e population mean\n",
    "               h1(alternate hypothesis) = the new weight loss drug is not effective and the average weight loss is not = 0\n",
    "\n",
    "              2. the value of the lemda =  0.05 and the value of dof (degree of freedom ) = n-1 = 50-1\n",
    "              3. let take the value of confidence interval by analysing t test tabel \n",
    "              which comes out arround 2.009 (approx)\n",
    "              4. if out t test value after calculating comes out to be as more then 2.009 then we reject the null hyothesis \n",
    "               and if comes under 2.009 then we failed to reject null hypothesis\n",
    "              5. so if we solve the equation we got the value of t test arounf 16. something which is greater then 2.009 so\n",
    "              we reject the null hypothesis\n",
    "               \n",
    "               \n",
    "                "
   ]
  },
  {
   "cell_type": "markdown",
   "id": "a774f881",
   "metadata": {},
   "source": [
    "#  Q11. In a survey of 500 people, 65% reported being satisfied with their current job. Calculate the 95% confidence interval for the true proportion of people who are satisfied with their job."
   ]
  },
  {
   "cell_type": "markdown",
   "id": "28f25528",
   "metadata": {},
   "source": [
    "ans To calculate the 95% confidence interval for the true proportion of people satisfied with their job, we use the following formula:\n",
    "\n",
    "Confidence Interval = Sample Proportion ± Margin of Error\n",
    "\n",
    "To calculate the margin of error, we need to determine the critical value based on the confidence level. For a 95% confidence level, the critical value is approximately 1.96 (obtained from the standard normal distribution).\n",
    "\n",
    "Margin of Error = Critical Value * Standard Error\n",
    "\n",
    "Standard Error = √[(p * (1 - p)) / n]\n",
    "\n",
    "Calculating the values:\n",
    "\n",
    "Standard Error = √[(0.65 * (1 - 0.65)) / 500] ≈ 0.0202\n",
    "\n",
    "Margin of Error = 1.96 * 0.0202 ≈ 0.0397\n",
    "\n",
    "Confidence Interval = 0.65 ± 0.0397\n",
    "\n",
    "Confidence Interval ≈ (0.6103, 0.6897)\n",
    "\n",
    "The 95% confidence interval for the true proportion of people satisfied with their job is approximately (0.6103, 0.6897). This means we can be 95% confident that the true proportion of people satisfied with their job lies within this range based on the given sample data."
   ]
  },
  {
   "cell_type": "markdown",
   "id": "4999f2aa",
   "metadata": {},
   "source": [
    "# Q12. A researcher is testing the effectiveness of two different teaching methods on student performance. Sample A has a mean score of 85 with a standard deviation of 6, while sample B has a mean score of 82 with a standard deviation of 5. Conduct a hypothesis test to determine if the two teaching methods have a significant difference in student performance using a t-test with a significance level of 0.01.\n",
    "ans - To conduct a hypothesis test to determine if there is a significant difference in student performance between two teaching methods, we will use a t-test.\n",
    "\n",
    "Null Hypothesis (H₀): The two teaching methods have no significant difference in student performance; the mean scores are equal. Alternative Hypothesis (H₁): The two teaching methods have a significant difference in student performance; the mean scores are not equal.\n",
    "\n",
    "Using the t-test formula for independent samples, we calculate the t-statistic:\n",
    "\n",
    "t = (x̄₁ - x̄₂) / √[(s₁² / n₁) + (s₂² / n₂)]\n",
    "\n",
    "Where:\n",
    "\n",
    "x̄₁ and x̄₂ are the sample means,\n",
    "s₁ and s₂ are the sample standard deviations,\n",
    "n₁ and n₂ are the sample sizes.\n",
    "Calculating the t-statistic:\n",
    "\n",
    "t = (85 - 82) / √[(6² / n₁) + (5² / n₂)]\n",
    "\n",
    "We do not have the sample sizes (n₁ and n₂) provided in the question, so we cannot calculate the t-statistic or perform the hypothesis test accurately. Please provide the sample sizes to proceed with the calculation and hypothesis test.\n",
    "\n",
    "# Q13. A population has a mean of 60 and a standard deviation of 8. A sample of 50 observations has a mean of 65. Calculate the 90% confidence interval for the true population mean.\n",
    "ans -To calculate the 90% confidence interval for the true population mean, we can use the formula:\n",
    "\n",
    "Confidence Interval = Sample Mean ± (Critical Value * Standard Error)\n",
    "\n",
    "First, we need to determine the critical value corresponding to a 90% confidence level. Since the sample size is relatively large (n > 30), we can approximate the critical value using the Z-distribution. For a 90% confidence level, the critical value is approximately 1.645.\n",
    "\n",
    "Next, we calculate the standard error:\n",
    "\n",
    "Standard Error = σ / √n\n",
    "Standard Error = 8 / √50 ≈ 1.13\n",
    "Now, we can calculate the confidence interval:\n",
    "\n",
    "Confidence Interval = 65 ± (1.645 * 1.13)\n",
    "\n",
    "Confidence Interval ≈ (63.50, 66.50)\n",
    "\n",
    "The 90% confidence interval for the true population mean is approximately (63.50, 66.50). This means that we can be 90% confident that the true population mean falls within this range based on the given sample data.\n",
    "\n",
    "# Q14. In a study of the effects of caffeine on reaction time, a sample of 30 participants had an average reaction time of 0.25 seconds with a standard deviation of 0.05 seconds. Conduct a hypothesis test to determine if the caffeine has a significant effect on reaction time at a 90% confidence level using a t-test.\n",
    "ans -To conduct a hypothesis test to determine if caffeine has a significant effect on reaction time, we will use a t-test.\n",
    "\n",
    "Null Hypothesis (H₀): Caffeine has no significant effect on reaction time; the mean reaction time is the same as the population mean. Alternative Hypothesis (H₁): Caffeine has a significant effect on reaction time; the mean reaction time is different from the population mean.\n",
    "\n",
    "We need to compare the sample mean to the population mean using a t-test. However, the population mean is not provided in the question. Therefore, we cannot conduct the t-test or calculate the results accurately without the population mean."
   ]
  },
  {
   "cell_type": "code",
   "execution_count": null,
   "id": "7639bed2",
   "metadata": {},
   "outputs": [],
   "source": []
  }
 ],
 "metadata": {
  "kernelspec": {
   "display_name": "Python 3 (ipykernel)",
   "language": "python",
   "name": "python3"
  },
  "language_info": {
   "codemirror_mode": {
    "name": "ipython",
    "version": 3
   },
   "file_extension": ".py",
   "mimetype": "text/x-python",
   "name": "python",
   "nbconvert_exporter": "python",
   "pygments_lexer": "ipython3",
   "version": "3.11.3"
  }
 },
 "nbformat": 4,
 "nbformat_minor": 5
}

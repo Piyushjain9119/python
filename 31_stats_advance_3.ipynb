{
 "cells": [
  {
   "cell_type": "markdown",
   "id": "c0434911",
   "metadata": {},
   "source": [
    "# Q1: What is Estimation Statistics? Explain point estimate and interval estimate."
   ]
  },
  {
   "cell_type": "markdown",
   "id": "3a157717",
   "metadata": {},
   "source": [
    "ans -- \n",
    "Estimation statistics is a branch of statistics that deals with the process of estimating unknown parameters or characteristics of a population based on sample data. It involves using sample statistics to make inferences or predictions about the population parameters.\n",
    "\n",
    "Point Estimate: A point estimate is a single value that is used to estimate an unknown parameter of a population. It is calculated based on the sample data and is typically denoted by a specific statistic, such as the sample mean, sample proportion, or sample standard deviation. Point estimates provide a single best guess of the population parameter but do not provide information about the variability or uncertainty associated with the estimate.\n",
    "\n",
    "For example, if we want to estimate the population mean income of a city based on a sample of individuals, we can calculate the sample mean income and use it as a point estimate for the population mean.\n",
    "\n",
    "Interval Estimate: An interval estimate, also known as an confidence interval, provides a range of values within which the population parameter is likely to fall. It takes into account both thepoint estimate and the variability or uncertainty associated with the estimate.\n",
    "\n",
    "For example, suppose we calculate a 95% confidence interval for the population mean income of a city based on a sample. It might be expressed as \"the population mean income is estimated to be between 40,000 and \n",
    "50,000, with a 95% level of confidence.\" This means that we are 95% confident that the true population mean income falls within that range."
   ]
  },
  {
   "cell_type": "markdown",
   "id": "867e13bf",
   "metadata": {},
   "source": [
    "# Q2. Write a Python function to estimate the population mean using a sample mean and standard deviation."
   ]
  },
  {
   "cell_type": "code",
   "execution_count": 2,
   "id": "10759690",
   "metadata": {},
   "outputs": [
    {
     "name": "stdout",
     "output_type": "stream",
     "text": [
      "Estimated population mean: 50.0\n",
      "Confidence interval: (48.04, 51.96)\n"
     ]
    }
   ],
   "source": [
    "import math\n",
    "\n",
    "def estimate_population_mean(sample_mean, sample_std_dev, sample_size):\n",
    "    standard_error = sample_std_dev / math.sqrt(sample_size)\n",
    "    \n",
    "    confidence_multiplier = 1.96\n",
    "    margin_of_error = confidence_multiplier * standard_error\n",
    "    \n",
    "    lower_bound = sample_mean - margin_of_error\n",
    "    upper_bound = sample_mean + margin_of_error\n",
    "    \n",
    "    return sample_mean, lower_bound, upper_bound\n",
    "sample_mean = 50.0\n",
    "sample_std_dev = 10.0\n",
    "sample_size = 100\n",
    "\n",
    "estimated_mean, lower_bound, upper_bound = estimate_population_mean(sample_mean, sample_std_dev, sample_size)\n",
    "\n",
    "print(f\"Estimated population mean: {estimated_mean}\")\n",
    "print(f\"Confidence interval: ({lower_bound}, {upper_bound})\")"
   ]
  },
  {
   "cell_type": "markdown",
   "id": "fd595ce0",
   "metadata": {},
   "source": [
    "# Q3: What is Hypothesis testing? Why is it used? State the importance of Hypothesis testing."
   ]
  },
  {
   "cell_type": "markdown",
   "id": "5522d664",
   "metadata": {},
   "source": [
    "ans- \n",
    "\n",
    "Hypothesis testing is a statistical method used to make inferences or draw conclusions about a population based on sample data. It involves formulating a hypothesis, collecting and analyzing data, and evaluating the evidence against the hypothesis.\n",
    "\n",
    "The importance of hypothesis testing can be summarized as follows:\n",
    "\n",
    "1. Decision-making: Hypothesis testing provides a structured framework for decision-making. It helps researchers determine whether there is enough evidence to support a particular claim or hypothesis, allowing them to make informed choices.\n",
    "\n",
    "2. Inference about populations: Hypothesis testing allows researchers to draw conclusions about population parameters based on sample data. It helps generalize the findings from a sample to the larger population, providing insights into various phenomena.\n",
    "\n",
    "3. Scientific rigor: Hypothesis testing is an essential component of the scientific method. It helps ensure that conclusions are based on evidence rather than intuition or personal beliefs. By using statistical techniques, researchers can objectively evaluate hypotheses and strengthen the validity and reliability of their findings.\n",
    "\n",
    "4. Risk assessment: Hypothesis testing involves assessing the risk of making incorrect conclusions. It provides a measure of uncertainty and allows researchers to quantify the likelihood of obtaining the observed data under the null hypothesis (the hypothesis being tested). This helps researchers understand the potential errors associated with their conclusions.\n",
    "\n",
    "5. Theory validation and advancement: Hypothesis testing plays a crucial role in validating existing theories or advancing new ones. By subjecting hypotheses to rigorous statistical tests, researchers can confirm or challenge existing theories, leading to the refinement and development of scientific knowledge.\n",
    "\n"
   ]
  },
  {
   "cell_type": "markdown",
   "id": "4d3c860d",
   "metadata": {},
   "source": [
    "# Q4. Create a hypothesis that states whether the average weight of male college students is greater than the average weight of female college students."
   ]
  },
  {
   "cell_type": "markdown",
   "id": "bea8e0a7",
   "metadata": {},
   "source": [
    "ans -- \n",
    "Null Hypothesis (H0): The average weight of male college students is equal to or less than the average weight of female college students.\n",
    "\n",
    "Alternative Hypothesis (H1): The average weight of male college students is greater than the average weight of female college students.\n",
    "\n",
    "In this hypothesis, we are testing whether there is evidence to suggest that the average weight of male college students is greater than the average weight of female college students. The null hypothesis assumes that there is no difference or that male students may have equal or lesser weight compared to female students. The alternative hypothesis, on the other hand, suggests that male students, on average, have a greater weight than female students. By collecting and analyzing appropriate data, we can assess the evidence and determine whether to accept or reject the null hypothesis in favor of the alternative hypothesis."
   ]
  },
  {
   "cell_type": "markdown",
   "id": "fefcbf12",
   "metadata": {},
   "source": [
    "# Q5. Write a Python script to conduct a hypothesis test on the difference between two population means, given a sample from each population."
   ]
  },
  {
   "cell_type": "code",
   "execution_count": 3,
   "id": "2dc04ff1",
   "metadata": {},
   "outputs": [
    {
     "name": "stdout",
     "output_type": "stream",
     "text": [
      "Hypothesis Test Results:\n",
      "Test Statistic: -2.321524000352038\n",
      "P-value: 0.05032549542343215\n",
      "Fail to reject the null hypothesis\n"
     ]
    }
   ],
   "source": [
    "import scipy.stats as stats\n",
    "\n",
    "def hypothesis_test(sample1, sample2, alpha):\n",
    "    t_stat, p_value = stats.ttest_ind(sample1, sample2, equal_var=False)\n",
    "    \n",
    "    if p_value < alpha:\n",
    "        decision = \"Reject the null hypothesis\"\n",
    "    else:\n",
    "        decision = \"Fail to reject the null hypothesis\"\n",
    "    \n",
    "    return t_stat, p_value, decision\n",
    "\n",
    "sample1 = [10, 12, 15, 11, 13]\n",
    "sample2 = [14, 16, 18, 12, 17]\n",
    "alpha = 0.05\n",
    "\n",
    "t_statistic, p_val, decision = hypothesis_test(sample1, sample2, alpha)\n",
    "\n",
    "print(\"Hypothesis Test Results:\")\n",
    "print(f\"Test Statistic: {t_statistic}\")\n",
    "print(f\"P-value: {p_val}\")\n",
    "print(decision)"
   ]
  },
  {
   "cell_type": "markdown",
   "id": "cd734228",
   "metadata": {},
   "source": [
    "# Q6: What is a null and alternative hypothesis? Give some examples."
   ]
  },
  {
   "cell_type": "markdown",
   "id": "66748357",
   "metadata": {},
   "source": [
    "ans --\n",
    "in statistical hypothesis testing, the null hypothesis (H0) and alternative hypothesis (H1 or Ha) are two competing statements or claims about a population parameter. These hypotheses are used to make inferences and draw conclusions based on sample data. Here are some examples of null and alternative hypotheses:\n",
    "\n",
    "Example: Testing the Effectiveness of a New Drug\n",
    "\n",
    "1. Null Hypothesis (H0): The new drug has no effect on reducing blood pressure.\n",
    "2. Alternative Hypothesis (H1): The new drug is effective in reducing blood pressure.\n",
    "Example: Comparing Two Means\n",
    "\n",
    "1. Null Hypothesis (H0): The average test scores of students who receive tutoring and those who do not receive tutoring are equal.\n",
    "2. Alternative Hypothesis (H1): The average test scores of students who receive tutoring are higher than those who do not receive tutoring.\n",
    "\n",
    "Example: Testing a Marketing Campaign\n",
    "\n",
    "1. Null Hypothesis (H0): The marketing campaign has no effect on increasing product sales.\n",
    "2. Alternative Hypothesis (H1): The marketing campaign leads to a significant increase in product sales.\n",
    "\n",
    "Example: Evaluating Gender Bias in Hiring\n",
    "\n",
    "1. Null Hypothesis (H0): There is no gender bias in the hiring process.\n",
    "2. Alternative Hypothesis (H1): There is a gender bias in the hiring process, favoring one gender over the other.\n",
    "\n",
    "Example: Testing the Accuracy of a Machine Learning Model\n",
    "\n",
    "1. Null Hypothesis (H0): The machine learning model has an accuracy similar to random guessing.\n",
    "2. Alternative Hypothesis (H1): The machine learning model has a higher accuracy than random guessing."
   ]
  },
  {
   "cell_type": "markdown",
   "id": "7667d62c",
   "metadata": {},
   "source": [
    "# Q7: Write down the steps involved in hypothesis testing."
   ]
  },
  {
   "cell_type": "markdown",
   "id": "09a9a3f0",
   "metadata": {},
   "source": [
    "ans --\n",
    "1. State the Null Hypothesis (H0) and Alternative Hypothesis (H1): Clearly define the null hypothesis, which represents the default or no-effect condition, and the alternative hypothesis, which represents the claim or effect you want to investigate.\n",
    "\n",
    "2. Set the Significance Level (α): Determine the significance level, denoted as α, which represents the probability of rejecting the null hypothesis when it is actually true. Commonly used significance levels are 0.05 (5%) or 0.01 (1%), but the choice depends on the context and desired level of confidence.\n",
    "\n",
    "3. Select the Test Statistic: Choose an appropriate test statistic based on the hypothesis being tested and the type of data being analyzed. The test statistic helps quantify the evidence from the sample data to make a decision about the hypotheses.\n",
    "\n",
    "4. Determine the Sampling Distribution: Determine the appropriate sampling distribution for the test statistic under the null hypothesis. This distribution depends on the type of test and assumptions made about the population.\n",
    "\n",
    "5. Collect and Analyze Sample Data: Collect a representative sample from the population of interest. Calculate the test statistic using the sample data and relevant formulas or statistical techniques.\n",
    "\n",
    "6. Calculate the P-value: The P-value is the probability of observing the sample data, or more extreme results, assuming the null hypothesis is true. Calculate the P-value based on the test statistic and the assumed null hypothesis distribution.\n",
    "\n",
    "7. Make a Decision: Compare the calculated P-value to the significance level (α). If the P-value is less than or equal to α, reject the null hypothesis in favor of the alternative hypothesis. If the P-value is greater than α, fail to reject the null hypothesis. This decision is based on the strength of evidence against the null hypothesis.\n",
    "\n",
    "8. Draw Conclusions: Based on the decision made, draw conclusions about the population based on the sample data. State the results, including the test statistic, P-value, and the conclusion about the null hypothesis (either rejected or failed to reject)."
   ]
  },
  {
   "cell_type": "markdown",
   "id": "4263298c",
   "metadata": {},
   "source": [
    "# Q8. Define p-value and explain its significance in hypothesis testing."
   ]
  },
  {
   "cell_type": "markdown",
   "id": "3dc33401",
   "metadata": {},
   "source": [
    "ans -- \n",
    "The p-value is a statistical measure that quantifies the strength of evidence against the null hypothesis in hypothesis testing. It represents the probability of obtaining the observed sample data, or more extreme results, assuming that the null hypothesis is true.\n",
    "\n",
    "The significance of the p-value in hypothesis testing can be understood as follows:\n",
    "\n",
    "1. Measure of Evidence: The p-value provides a quantitative measure of the evidence against the null hypothesis. A smaller p-value indicates stronger evidence against the null hypothesis, suggesting that the observed data is less likely to occur by chance alone under the null hypothesis.\n",
    "\n",
    "2. Decision Rule: The p-value is compared to the predetermined significance level (α) to make a decision about the null hypothesis. If the p-value is less than or equal to α, it is considered statistically significant, and the null hypothesis is rejected in favor of the alternative hypothesis. On the other hand, if the p-value is greater than α, the null hypothesis is not rejected.\n",
    "\n",
    "3. Sensitivity to Sample Size: The p-value takes into account both the magnitude of the observed effect and the sample size. Larger sample sizes tend to yield smaller p-values, making it easier to detect smaller effects as statistically significant. This reflects the increased precision and reduced variability associated with larger samples.\n",
    "\n",
    "4. Interpretation: The p-value is not a direct measure of the practical significance or the magnitude of an effect. It indicates the strength of evidence against the null hypothesis but does not provide information about the size, importance, or practical relevance of the effect observed.\n",
    "\n",
    "5. Subjective Threshold: The choice of significance level (α) is subjective and depends on the context, desired level of confidence, and the consequences of making Type I and Type II errors. Commonly used significance levels are 0.05 (5%) or 0.01 (1%), but researchers should consider the specific field, study design, and practical implications when selecting an appropriate threshold.\n"
   ]
  },
  {
   "cell_type": "markdown",
   "id": "05682dbe",
   "metadata": {},
   "source": [
    "# Q9. Generate a Student's t-distribution plot using Python's matplotlib library, with the degrees of freedom parameter set to 10."
   ]
  },
  {
   "cell_type": "code",
   "execution_count": 4,
   "id": "d1491bcd",
   "metadata": {},
   "outputs": [
    {
     "data": {
      "image/png": "[encoded data removed]",
      "text/plain": [
       "<Figure size 640x480 with 1 Axes>"
      ]
     },
     "metadata": {},
     "output_type": "display_data"
    }
   ],
   "source": [
    "import numpy as np\n",
    "import matplotlib.pyplot as plt\n",
    "import scipy.stats as stats\n",
    "\n",
    "df = 10\n",
    "\n",
    "x = np.linspace(-4, 4, 100)\n",
    "\n",
    "y = stats.t.pdf(x, df)\n",
    "\n",
    "# Create the plot\n",
    "plt.plot(x, y, label=f\"t-distribution (df={df})\")\n",
    "plt.xlabel('x')\n",
    "plt.ylabel('Probability Density')\n",
    "plt.title('Student\\'s t-distribution')\n",
    "plt.legend()\n",
    "plt.show()"
   ]
  },
  {
   "cell_type": "markdown",
   "id": "bf931c84",
   "metadata": {},
   "source": [
    "# Q10. Write a Python program to calculate the two-sample t-test for independent samples, given two random samples of equal size and a null hypothesis that the population means are equal."
   ]
  },
  {
   "cell_type": "code",
   "execution_count": 5,
   "id": "610bed70",
   "metadata": {},
   "outputs": [
    {
     "name": "stdout",
     "output_type": "stream",
     "text": [
      "Two-Sample t-Test Results:\n",
      "Test Statistic: -2.3215240003520377\n",
      "P-value: 0.04880318406571364\n"
     ]
    }
   ],
   "source": [
    "import scipy.stats as stats\n",
    "\n",
    "def two_sample_t_test(sample1, sample2):\n",
    "    t_stat, p_value = stats.ttest_ind(sample1, sample2)\n",
    "    \n",
    "    return t_stat, p_value\n",
    "\n",
    "# Example usage\n",
    "sample1 = [10, 12, 15, 11, 13]\n",
    "sample2 = [14, 16, 18, 12, 17]\n",
    "\n",
    "t_statistic, p_val = two_sample_t_test(sample1, sample2)\n",
    "\n",
    "print(\"Two-Sample t-Test Results:\")\n",
    "print(f\"Test Statistic: {t_statistic}\")\n",
    "print(f\"P-value: {p_val}\")"
   ]
  },
  {
   "cell_type": "markdown",
   "id": "87bb040f",
   "metadata": {},
   "source": [
    "# Q11: What is Student’s t distribution? When to use the t-Distribution."
   ]
  },
  {
   "cell_type": "markdown",
   "id": "4723be40",
   "metadata": {},
   "source": [
    "ans --\n",
    "The Student's t-distribution, often referred to as the t-distribution, is a probability distribution that is widely used in statistics. It is similar to the normal distribution but has heavier tails, which makes it more suitable for smaller sample sizes or when the population standard deviation is unknown.\n",
    "\n",
    "Here are some scenarios where the t-distribution is commonly used:\n",
    "\n",
    "1. Confidence Intervals for a Population Mean: When estimating the population mean from a sample, if the population standard deviation is unknown, the t-distribution is used to construct confidence intervals.\n",
    "\n",
    "2. Hypothesis Testing for a Population Mean: When testing hypotheses about the population mean, especially with small sample sizes or unknown population standard deviation, the t-distribution is used to calculate test statistics and p-values.\n",
    "\n",
    "3. Comparing Two Sample Means: In situations where two independent samples are being compared, such as in a two-sample t-test, the t-distribution is used to assess the difference between the means.\n",
    "\n",
    "4. Regression Analysis: In linear regression, the t-distribution is used to test the significance of regression coefficients, such as the slope or intercept.\n",
    "\n",
    "5. Sample Size Determination: When planning a study or experiment, the t-distribution is used in sample size calculations to determine the appropriate sample size needed to achieve desired precision and power."
   ]
  },
  {
   "cell_type": "markdown",
   "id": "3c88c889",
   "metadata": {},
   "source": [
    "# Q12: What is t-statistic? State the formula for t-statistic."
   ]
  },
  {
   "cell_type": "markdown",
   "id": "fe7ae179",
   "metadata": {},
   "source": [
    "ans- \n",
    "The t-statistic is a measure that quantifies the difference between sample means relative to the variability within the samples. It is used in hypothesis testing and comparing means between groups. The t-statistic indicates how many standard errors the sample mean differs from the hypothesized population mean.\n",
    "\n",
    "The formula for calculating the t-statistic depends on the specific scenario and the type of test being conducted. Here are two common formulas for calculating the t-statistic:\n",
    "\n",
    "One-sample t-test: The one-sample t-test compares the sample mean to a known population mean (often denoted as μ0).\n",
    "\n",
    "t = (x̄ - μ0) / (s / √n)\n",
    "\n",
    "Independent two-sample t-test: The independent two-sample t-test compares the means of two independent samples.\n",
    "\n",
    "t = (x̄1 - x̄2) / √(s1²/n1 + s2²/n2)"
   ]
  },
  {
   "cell_type": "markdown",
   "id": "05078c31",
   "metadata": {},
   "source": [
    "# Q13. A coffee shop owner wants to estimate the average daily revenue for their shop. They take a random sample of 50 days and find the sample mean revenue to be 500 with a standard deviation of 50. Estimate the population mean revenue with a 95% confidence interval."
   ]
  },
  {
   "cell_type": "markdown",
   "id": "b26b60f2",
   "metadata": {},
   "source": [
    "ans -- \n",
    "1. Sample Mean (x̄) = $500\n",
    "2. Sample Standard Deviation (s) = $50\n",
    "3. Sample Size (n) = 50\n",
    "4. Confidence Level = 95%\n",
    "5. Using these values, we can calculate the margin of error as:\n",
    "* Margin of Error = Critical Value * (s / √n)\n",
    "For a 95% confidence level and 49 degrees of freedom, the critical value from the t-distribution is approximately 2.009.\n",
    "\n",
    "* Margin of Error ≈ 2.009 * (50 / √50) ≈ 2.009 * 7.0711 ≈ 14.2\n",
    "6. The 95% confidence interval is then calculated as:\n",
    "7. Lower Bound = Sample Mean - Margin of Error ≈ \n",
    "   14.2 ≈ $485.8\n",
    "   \n",
    "8. Upper Bound = Sample Mean + Margin of Error ≈ \n",
    "14.2 ≈ $514.2\n",
    "Therefore, the estimated population mean revenue for the coffee shop is approximately 485.8 to\n",
    "514.2 with a 95% confidence level. This means that we can be 95% confident that the true average daily revenue falls within this range."
   ]
  },
  {
   "cell_type": "markdown",
   "id": "45113084",
   "metadata": {},
   "source": [
    "# Q14. A researcher hypothesizes that a new drug will decrease blood pressure by 10 mmHg. They conduct a clinical trial with 100 patients and find that the sample mean decrease in blood pressure is 8 mmHg with a standard deviation of 3 mmHg. Test the hypothesis with a significance level of 0.05."
   ]
  },
  {
   "cell_type": "markdown",
   "id": "d3edd32d",
   "metadata": {},
   "source": [
    "ans --\n",
    "1. Null Hypothesis (H0): The new drug does not decrease blood pressure by 10 mmHg. H0: μ = 10\n",
    "\n",
    "2. Alternative Hypothesis (H1): The new drug decreases blood pressure by 10 mmHg. H1: μ < 10 (one-tailed test)\n",
    "\n",
    "3. Sample Mean (x̄) = 8 mmHg\n",
    "\n",
    "4. Sample Standard Deviation (s) = 3 mmHg\n",
    "\n",
    "5. Sample Size (n) = 100\n",
    "\n",
    "6. Significance Level (α) = 0.05\n",
    "\n",
    "7. Calculate the test statistic (t-statistic):\n",
    "\n",
    "* t = (x̄ - μ) / (s / √n)\n",
    "* t = (8 - 10) / (3 / √100)\n",
    "* t = -2 / 0.3\n",
    "* t ≈ -6.67\n",
    "8. Determine the critical value for the given significance level and degrees of freedom. Since the sample size is 100, the degrees of freedom (df) is (n - 1) = 99. Using a t-table or statistical software, the critical value for a one-tailed test with α = 0.05 and df = 99 is approximately -1.66.\n",
    "\n",
    "9. Compare the t-statistic with the critical value:\n",
    "\n",
    "    -6.67 < -1.66\n",
    "\n",
    "10. Make a decision:\n",
    "      Since the t-statistic falls in the rejection region (t < -1.66), we reject the null hypothesis.\n",
    "\n",
    "11. Conclusion:\n",
    "    Based on the results of the one-sample t-test, with a significance level of 0.05, there is sufficient evidence to suggest that the new drug decreases blood pressure by more than 10 mmHg.\n",
    "\n",
    "Therefore, the researcher's hypothesis is supported, indicating that the new drug has a significant effect on reducing blood pressure."
   ]
  },
  {
   "cell_type": "markdown",
   "id": "03adbe9a",
   "metadata": {},
   "source": [
    "# Q15. An electronics company produces a certain type of product with a mean weight of 5 pounds and a standard deviation of 0.5 pounds. A random sample of 25 products is taken, and the sample mean weight is found to be 4.8 pounds. Test the hypothesis that the true mean weight of the products is less than 5 pounds with a significance level of 0.01."
   ]
  },
  {
   "cell_type": "markdown",
   "id": "e9ebf4e7",
   "metadata": {},
   "source": [
    "ans --\n",
    "1. Null Hypothesis (H0): The true mean weight of the products is 5 pounds or greater.\n",
    "    H0: μ ≥ 5\n",
    "\n",
    "2. Alternative Hypothesis (H1): The true mean weight of the products is less than 5 pounds.\n",
    "    H1: μ < 5 (one-tailed test)\n",
    "\n",
    "3. Population Mean (μ) = 5 pounds\n",
    "\n",
    "4. Population Standard Deviation (σ) = 0.5 pounds\n",
    "\n",
    "5. Sample Mean (x̄) = 4.8 pounds\n",
    "\n",
    "6. Sample Size (n) = 25\n",
    "\n",
    "7. Significance Level (α) = 0.01\n",
    "\n",
    "8. Calculate the test statistic (t-statistic):\n",
    "\n",
    "* t = (x̄ - μ) / (σ / √n)\n",
    "* t = (4.8 - 5) / (0.5 / √25)\n",
    "* t = -0.2 / (0.5 / 5)\n",
    "* t = -0.2 / 0.1\n",
    "* t = -2\n",
    "9. Determine the critical value for the given significance level and degrees of freedom. Since the sample size is 25, the degrees of freedom (df) is (n - 1) = 24. Using a t-table or statistical software, the critical value for a one-tailed test with α = 0.01 and df = 24 is approximately -2.492.\n",
    "\n",
    "10. Compare the t-statistic with the critical value:\n",
    "\n",
    "    -2 < -2.492\n",
    "\n",
    "11. Make a decision:\n",
    "    Since the t-statistic falls in the acceptance region (t > -2.492), we fail to reject the null hypothesis.\n",
    "\n",
    "12. Conclusion:\n",
    "    Based on the results of the one-sample t-test, with a significance level of 0.01, there is not enough evidence to suggest that the true mean weight of the products is less than 5 pounds.\n",
    "\n",
    "Therefore, we do not have sufficient evidence to conclude that the true mean weight of the products is less than 5 pounds, and the hypothesis that the mean weight is 5 pounds or greater remains valid."
   ]
  },
  {
   "cell_type": "markdown",
   "id": "2ed32934",
   "metadata": {},
   "source": [
    "# Q16. Two groups of students are given different study materials to prepare for a test. The first group (n1 = 30) has a mean score of 80 with a standard deviation of 10, and the second group (n2 = 40) has a mean score of 75 with a standard deviation of 8. Test the hypothesis that the population means for the two groups are equal with a significance level of 0.01."
   ]
  },
  {
   "cell_type": "markdown",
   "id": "0a75aab9",
   "metadata": {},
   "source": [
    "ans --\n",
    "1. Null Hypothesis (H0): The population means for the two groups are equal.\n",
    "    H0: μ1 = μ2\n",
    "\n",
    "2. Alternative Hypothesis (H1): The population means for the two groups are not equal.\n",
    "    H1: μ1 ≠ μ2 (two-tailed test)\n",
    "\n",
    "3. First Group (Group 1):\n",
    "* Sample Size (n1) = 30\n",
    "* Sample Mean (x̄1) = 80\n",
    "* Sample Standard Deviation (s1) = 10\n",
    "4. Second Group (Group 2):\n",
    "* Sample Size (n2) = 40\n",
    "* Sample Mean (x̄2) = 75\n",
    "* Sample Standard Deviation (s2) = 8\n",
    "5. Significance Level (α) = 0.01\n",
    "\n",
    "6. Calculate the test statistic (t-statistic):\n",
    "\n",
    "* t = (x̄1 - x̄2) / √((s1^2 / n1) + (s2^2 / n2))\n",
    "* t = (80 - 75) / √((10^2 / 30) + (8^2 / 40))\n",
    "* t = 5 / √((100 / 30) + (64 / 40))\n",
    "* t = 5 / √(3.33 + 1.6)\n",
    "* t = 5 / √4.93\n",
    "* t ≈ 5 / 2.22\n",
    "* t ≈ 2.25\n",
    "7. Determine the critical value for the given significance level and degrees of freedom. Since the sample sizes are 30 and 40, the degrees of freedom can be approximated as df = min(n1 - 1, n2 - 1) = 29. Using a t-table or statistical software, the critical value for a two-tailed test with α = 0.01 and df = 29 is approximately ±2.756.\n",
    "\n",
    "8. Compare the absolute value of the t-statistic with the critical value:\n",
    "\n",
    "    |2.25| < 2.756\n",
    "\n",
    "9. Make a decision:\n",
    "    Since the absolute value of the t-statistic falls within the acceptance region, we fail to reject the null hypothesis.\n",
    "\n",
    "10. Conclusion:\n",
    "    Based on the results of the independent two-sample t-test, with a significance level of 0.01, there is not enough evidence to suggest that the population means for the two groups are significantly different.\n",
    "\n",
    "Therefore, we do not have sufficient evidence to conclude that there is a significant difference in the population means between the two groups based on the given sample data."
   ]
  },
  {
   "cell_type": "markdown",
   "id": "cbaaf9b1",
   "metadata": {},
   "source": [
    "# Q17. A marketing company wants to estimate the average number of ads watched by viewers during a TV program. They take a random sample of 50 viewers and find that the sample mean is 4 with a standard deviation of 1.5. Estimate the population mean with a 99% confidence interval.\n"
   ]
  },
  {
   "cell_type": "markdown",
   "id": "d6b4be10",
   "metadata": {},
   "source": [
    "1. Sample Mean (x̄) = 4\n",
    "\n",
    "2. Sample Standard Deviation (s) = 1.5\n",
    "\n",
    "3. Sample Size (n) = 50\n",
    "\n",
    "4. Confidence Level = 99% (which corresponds to a significance level of 0.01)\n",
    "\n",
    "5. Calculate the critical value:\n",
    "\n",
    "Since the sample size is 50, the degrees of freedom (df) is (n - 1) = 49. Using a t-table or statistical software, the critical value for a 99% confidence level and 49 degrees of freedom is approximately 2.68.\n",
    "\n",
    "6. Calculate the standard error (SE):\n",
    "* SE = s / √n\n",
    "* SE = 1.5 / √50\n",
    "* SE = 1.5 / 7.0711\n",
    "* SE ≈ 0.212\n",
    "\n",
    "7. Calculate the margin of error:\n",
    "* Margin of Error = critical value * SE\n",
    "* Margin of Error = 2.68 * 0.212\n",
    "* Margin of Error ≈ 0.568\n",
    "\n",
    "Calculate the lower and upper bounds of the confidence interval:\n",
    "Lower Bound = x̄ - Margin of Error\n",
    "\n",
    "Lower Bound = 4 - 0.568\n",
    "\n",
    "Lower Bound ≈ 3.432\n",
    "\n",
    "Upper Bound = x̄ + Margin of Error\n",
    "\n",
    "Upper Bound = 4 + 0.568\n",
    "\n",
    "Upper Bound ≈ 4.568\n",
    "\n",
    "Interpret the confidence interval:\n",
    "The 99% confidence interval estimate for the population mean is approximately 3.432 to 4.568. This means that we can be 99% confident that the true average number of ads watched by viewers"
   ]
  }
 ],
 "metadata": {
  "kernelspec": {
   "display_name": "Python 3 (ipykernel)",
   "language": "python",
   "name": "python3"
  },
  "language_info": {
   "codemirror_mode": {
    "name": "ipython",
    "version": 3
   },
   "file_extension": ".py",
   "mimetype": "text/x-python",
   "name": "python",
   "nbconvert_exporter": "python",
   "pygments_lexer": "ipython3",
   "version": "3.11.3"
  }
 },
 "nbformat": 4,
 "nbformat_minor": 5
}

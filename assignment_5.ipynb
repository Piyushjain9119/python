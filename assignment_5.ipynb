{
 "cells": [
  {
   "cell_type": "markdown",
   "id": "680d0115",
   "metadata": {},
   "source": [
    "Q1, Create a vehicle class with an init method having instance variables as name_of_vehicle, max_speed\n",
    "and average_of_vehicle."
   ]
  },
  {
   "cell_type": "code",
   "execution_count": 11,
   "id": "56bc4426",
   "metadata": {},
   "outputs": [],
   "source": [
    "class vehicle:\n",
    "    \n",
    "    \n",
    "    def __init__(self,name_of_vehicle,max_speed,average_of_vehicle):\n",
    "        self.name_of_vehicle = name_of_vehicle\n",
    "        self.max_speed = max_speed\n",
    "        self.average_of_vehicle = average_of_vehicle\n",
    "    \n",
    "    def vehicle_details(self):\n",
    "        return self.name_of_vehicle,self.max_speed,self.average_of_vehicle"
   ]
  },
  {
   "cell_type": "code",
   "execution_count": 12,
   "id": "06ef9b04",
   "metadata": {},
   "outputs": [],
   "source": [
    "car = vehicle(\"mustang\",300,10)"
   ]
  },
  {
   "cell_type": "code",
   "execution_count": 13,
   "id": "7c52de6c",
   "metadata": {},
   "outputs": [
    {
     "data": {
      "text/plain": [
       "('mustang', 300, 10)"
      ]
     },
     "execution_count": 13,
     "metadata": {},
     "output_type": "execute_result"
    }
   ],
   "source": [
    "car.vehicle_details()"
   ]
  },
  {
   "cell_type": "markdown",
   "id": "1daaaf20",
   "metadata": {},
   "source": [
    "Q2. Create a child class car from the vehicle class created in Que 1, which will inherit the vehicle class.\n",
    "Create a method named seating_capacity which takes capacity as an argument and returns the name of\n",
    "the vehicle and its seating capacity."
   ]
  },
  {
   "cell_type": "code",
   "execution_count": 14,
   "id": "b9313f78",
   "metadata": {},
   "outputs": [],
   "source": [
    "class car(vehicle):\n",
    "    \n",
    "    def seating_capacity(self,capacity):\n",
    "        self.capacity = capacity\n",
    "        return self.name_of_vehicle ,self.capacity"
   ]
  },
  {
   "cell_type": "code",
   "execution_count": 17,
   "id": "eb5b2cd6",
   "metadata": {},
   "outputs": [],
   "source": [
    "honda = car(\"baleno\",120,20)"
   ]
  },
  {
   "cell_type": "code",
   "execution_count": 19,
   "id": "966c4afd",
   "metadata": {},
   "outputs": [
    {
     "data": {
      "text/plain": [
       "('baleno', 5)"
      ]
     },
     "execution_count": 19,
     "metadata": {},
     "output_type": "execute_result"
    }
   ],
   "source": [
    "honda.seating_capacity(5)"
   ]
  },
  {
   "cell_type": "markdown",
   "id": "b138634d",
   "metadata": {},
   "source": [
    "Q3. What is multiple inheritance? Write a python code to demonstrate multiple inheritance."
   ]
  },
  {
   "cell_type": "markdown",
   "id": "159a3ee0",
   "metadata": {},
   "source": [
    "ans-- \n",
    "  multiple inheritance is a type of inheritance when two parent class are dervied by a single child class \n",
    "  or we can say when two classes are inherted by a sigle class called as child class"
   ]
  },
  {
   "cell_type": "code",
   "execution_count": 30,
   "id": "751da9e5",
   "metadata": {},
   "outputs": [],
   "source": [
    "class a:\n",
    "    \n",
    "    def hello1(self):\n",
    "        return \"hello ! i am from class a\""
   ]
  },
  {
   "cell_type": "code",
   "execution_count": 31,
   "id": "3d0e6f3c",
   "metadata": {},
   "outputs": [],
   "source": [
    "class b:\n",
    "    \n",
    "    def hello2(self):\n",
    "        return \"hello ! i am from class b\""
   ]
  },
  {
   "cell_type": "code",
   "execution_count": 32,
   "id": "199e49ca",
   "metadata": {},
   "outputs": [],
   "source": [
    "class c(a,b):\n",
    "    pass"
   ]
  },
  {
   "cell_type": "code",
   "execution_count": 33,
   "id": "67b37198",
   "metadata": {},
   "outputs": [],
   "source": [
    "d = c()"
   ]
  },
  {
   "cell_type": "code",
   "execution_count": 34,
   "id": "5e5bcd31",
   "metadata": {},
   "outputs": [
    {
     "data": {
      "text/plain": [
       "'hello ! i am from class a'"
      ]
     },
     "execution_count": 34,
     "metadata": {},
     "output_type": "execute_result"
    }
   ],
   "source": [
    "d.hello1()"
   ]
  },
  {
   "cell_type": "code",
   "execution_count": 35,
   "id": "bc995a48",
   "metadata": {},
   "outputs": [
    {
     "data": {
      "text/plain": [
       "'hello ! i am from class b'"
      ]
     },
     "execution_count": 35,
     "metadata": {},
     "output_type": "execute_result"
    }
   ],
   "source": [
    "d.hello2()"
   ]
  },
  {
   "cell_type": "markdown",
   "id": "2347f444",
   "metadata": {},
   "source": [
    "Q4. What are getter and setter in python? Create a class and create a getter and a setter method in this\n",
    "class."
   ]
  },
  {
   "cell_type": "markdown",
   "id": "a90c671d",
   "metadata": {},
   "source": [
    "ans--\n",
    "  getters ad setters in python are the two method which are mailny used to set the data and get the data \n",
    "  they are basically used by the programmer to avoid the user directly access the variv=bles or obehcts of the class "
   ]
  },
  {
   "cell_type": "code",
   "execution_count": 39,
   "id": "48b6f9e9",
   "metadata": {},
   "outputs": [],
   "source": [
    "class get_set:\n",
    "    \n",
    "    def set_data(self,num):\n",
    "        self.num = num\n",
    "        self.num = self.num*2\n",
    "    \n",
    "    \n",
    "    def get_data(self):\n",
    "        return self.num"
   ]
  },
  {
   "cell_type": "code",
   "execution_count": 40,
   "id": "48cf82fa",
   "metadata": {},
   "outputs": [],
   "source": [
    "a = get_set()"
   ]
  },
  {
   "cell_type": "code",
   "execution_count": 41,
   "id": "1f07e1e2",
   "metadata": {},
   "outputs": [],
   "source": [
    "a.set_data(10)"
   ]
  },
  {
   "cell_type": "code",
   "execution_count": 42,
   "id": "09949a9b",
   "metadata": {},
   "outputs": [
    {
     "data": {
      "text/plain": [
       "20"
      ]
     },
     "execution_count": 42,
     "metadata": {},
     "output_type": "execute_result"
    }
   ],
   "source": [
    "a.get_data()"
   ]
  },
  {
   "cell_type": "markdown",
   "id": "c8de7aa5",
   "metadata": {},
   "source": [
    "Q5.What is method overriding in python? Write a python code to demonstrate method overriding."
   ]
  },
  {
   "cell_type": "markdown",
   "id": "2f0d2820",
   "metadata": {},
   "source": [
    "ans--\n",
    "  method overriding in python refers to the condition when parent class has same method with same name as in child class ,it is a part of object oriented programming concept\n"
   ]
  },
  {
   "cell_type": "code",
   "execution_count": 55,
   "id": "b25a682e",
   "metadata": {},
   "outputs": [],
   "source": [
    "class dog:\n",
    "    \n",
    "    def sound(self):\n",
    "        return \"bhau bhau\"\n",
    "    "
   ]
  },
  {
   "cell_type": "code",
   "execution_count": 56,
   "id": "3e0b8f6b",
   "metadata": {},
   "outputs": [],
   "source": [
    "class cat:\n",
    "    \n",
    "    def sound(self):\n",
    "        return \"meow meow\""
   ]
  },
  {
   "cell_type": "code",
   "execution_count": 57,
   "id": "d9686392",
   "metadata": {},
   "outputs": [],
   "source": [
    "a = dog()"
   ]
  },
  {
   "cell_type": "code",
   "execution_count": 58,
   "id": "629c89c9",
   "metadata": {},
   "outputs": [],
   "source": [
    "b = cat()"
   ]
  },
  {
   "cell_type": "code",
   "execution_count": 59,
   "id": "43f22c59",
   "metadata": {},
   "outputs": [
    {
     "data": {
      "text/plain": [
       "'bhau bhau'"
      ]
     },
     "execution_count": 59,
     "metadata": {},
     "output_type": "execute_result"
    }
   ],
   "source": [
    "a.sound()"
   ]
  },
  {
   "cell_type": "code",
   "execution_count": 60,
   "id": "66f71153",
   "metadata": {},
   "outputs": [
    {
     "data": {
      "text/plain": [
       "'meow meow'"
      ]
     },
     "execution_count": 60,
     "metadata": {},
     "output_type": "execute_result"
    }
   ],
   "source": [
    "b.sound()"
   ]
  },
  {
   "cell_type": "code",
   "execution_count": null,
   "id": "d11d4b20",
   "metadata": {},
   "outputs": [],
   "source": []
  }
 ],
 "metadata": {
  "kernelspec": {
   "display_name": "Python 3 (ipykernel)",
   "language": "python",
   "name": "python3"
  },
  "language_info": {
   "codemirror_mode": {
    "name": "ipython",
    "version": 3
   },
   "file_extension": ".py",
   "mimetype": "text/x-python",
   "name": "python",
   "nbconvert_exporter": "python",
   "pygments_lexer": "ipython3",
   "version": "3.11.3"
  }
 },
 "nbformat": 4,
 "nbformat_minor": 5
}

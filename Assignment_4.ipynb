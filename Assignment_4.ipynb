{
 "cells": [
  {
   "cell_type": "markdown",
   "id": "000c8fbf",
   "metadata": {},
   "source": [
    "Q1. Create a python program to sort the given list of tuples based on integer value using a\n",
    "lambda function.\n",
    "[('Sachin Tendulkar', 34357), ('Ricky Ponting', 27483), ('Jack Kallis', 25534), ('Virat Kohli', 24936)]"
   ]
  },
  {
   "cell_type": "code",
   "execution_count": 30,
   "id": "53d8abfa",
   "metadata": {},
   "outputs": [],
   "source": [
    "l1 = [('Sachin Tendulkar',34357), ('Ricky Ponting', 27483), ('Jack Kallis', 25534), ('Virat Kohli', 24936)]"
   ]
  },
  {
   "cell_type": "code",
   "execution_count": 31,
   "id": "9a700891",
   "metadata": {},
   "outputs": [],
   "source": [
    "l1.sort(key=lambda x:x[1])\n"
   ]
  },
  {
   "cell_type": "code",
   "execution_count": 32,
   "id": "0df85159",
   "metadata": {},
   "outputs": [
    {
     "name": "stdout",
     "output_type": "stream",
     "text": [
      "[('Virat Kohli', 24936), ('Jack Kallis', 25534), ('Ricky Ponting', 27483), ('Sachin Tendulkar', 34357)]\n"
     ]
    }
   ],
   "source": [
    "print(l1)\n"
   ]
  },
  {
   "cell_type": "markdown",
   "id": "9f4566f1",
   "metadata": {},
   "source": [
    "Q2. Write a Python Program to find the squares of all the numbers in the given list of integers using\n",
    "lambda and map functions.\n",
    "[1, 2, 3, 4, 5, 6, 7, 8, 9, 10]"
   ]
  },
  {
   "cell_type": "code",
   "execution_count": 56,
   "id": "5b746f07",
   "metadata": {},
   "outputs": [],
   "source": [
    "l1 = [1, 2, 3, 4, 5, 6, 7, 8, 9, 10]"
   ]
  },
  {
   "cell_type": "code",
   "execution_count": 57,
   "id": "d4eb8fe4",
   "metadata": {},
   "outputs": [],
   "source": [
    "func=lambda x:x**2"
   ]
  },
  {
   "cell_type": "code",
   "execution_count": 58,
   "id": "7f011679",
   "metadata": {
    "scrolled": true
   },
   "outputs": [],
   "source": [
    "a = map(func,l1)"
   ]
  },
  {
   "cell_type": "code",
   "execution_count": 59,
   "id": "5d5156a0",
   "metadata": {},
   "outputs": [
    {
     "name": "stdout",
     "output_type": "stream",
     "text": [
      "1  4  9  16  25  36  49  64  81  100  "
     ]
    }
   ],
   "source": [
    "for i in a:\n",
    "    print(i,end='  ')"
   ]
  },
  {
   "cell_type": "markdown",
   "id": "defb2f5d",
   "metadata": {},
   "source": [
    "Q3. Write a python program to convert the given list of integers into a tuple of strings. Use map and\n",
    "lambda functions\n",
    "Given String: [1, 2, 3, 4, 5, 6, 7, 8, 9, 10]\n",
    "Expected output: ('1', '2', '3', '4', '5', '6', '7', '8', '9', '10')"
   ]
  },
  {
   "cell_type": "code",
   "execution_count": 79,
   "id": "421f80ed",
   "metadata": {},
   "outputs": [],
   "source": [
    "l1 = [1, 2, 3, 4, 5, 6, 7, 8, 9, 10]"
   ]
  },
  {
   "cell_type": "code",
   "execution_count": 80,
   "id": "4f585168",
   "metadata": {},
   "outputs": [],
   "source": [
    " a = lambda x:str(x)"
   ]
  },
  {
   "cell_type": "code",
   "execution_count": 83,
   "id": "06b4cb42",
   "metadata": {},
   "outputs": [
    {
     "data": {
      "text/plain": [
       "('1', '2', '3', '4', '5', '6', '7', '8', '9', '10')"
      ]
     },
     "execution_count": 83,
     "metadata": {},
     "output_type": "execute_result"
    }
   ],
   "source": [
    "b = tuple(map(a,l1))\n",
    "b"
   ]
  },
  {
   "cell_type": "markdown",
   "id": "96506808",
   "metadata": {},
   "source": [
    "Q4. Write a python program using reduce function to compute the product of a list containing numbers\n",
    "from 1 to 25."
   ]
  },
  {
   "cell_type": "code",
   "execution_count": 95,
   "id": "ef9de660",
   "metadata": {},
   "outputs": [],
   "source": [
    "list=[*(range(25))]"
   ]
  },
  {
   "cell_type": "code",
   "execution_count": 96,
   "id": "7bc6ac2b",
   "metadata": {},
   "outputs": [],
   "source": [
    "from functools import reduce\n"
   ]
  },
  {
   "cell_type": "code",
   "execution_count": 97,
   "id": "67ab0d66",
   "metadata": {},
   "outputs": [],
   "source": [
    "a=reduce(lambda x,y:x+y,list)"
   ]
  },
  {
   "cell_type": "code",
   "execution_count": 98,
   "id": "5739cdb9",
   "metadata": {},
   "outputs": [
    {
     "data": {
      "text/plain": [
       "300"
      ]
     },
     "execution_count": 98,
     "metadata": {},
     "output_type": "execute_result"
    }
   ],
   "source": [
    "a"
   ]
  },
  {
   "cell_type": "markdown",
   "id": "1c019479",
   "metadata": {},
   "source": [
    "Q5. Write a python program to filter the numbers in a given list that are divisible by 2 and 3 using the\n",
    "filter function.\n",
    "[2, 3, 6, 9, 27, 60, 90, 120, 55, 46]"
   ]
  },
  {
   "cell_type": "code",
   "execution_count": 116,
   "id": "4a9058d5",
   "metadata": {},
   "outputs": [],
   "source": [
    "l1 = [2, 3, 6, 9, 27, 60, 90, 120, 55, 46]"
   ]
  },
  {
   "cell_type": "code",
   "execution_count": 117,
   "id": "32c3ea40",
   "metadata": {},
   "outputs": [],
   "source": [
    "func = lambda x:  x%2==0 and x%3==0\n"
   ]
  },
  {
   "cell_type": "code",
   "execution_count": 118,
   "id": "1042aacf",
   "metadata": {},
   "outputs": [],
   "source": [
    "a = filter(func,l1)"
   ]
  },
  {
   "cell_type": "code",
   "execution_count": 119,
   "id": "7e9a8384",
   "metadata": {},
   "outputs": [
    {
     "name": "stdout",
     "output_type": "stream",
     "text": [
      "6\n",
      "60\n",
      "90\n",
      "120\n"
     ]
    }
   ],
   "source": [
    "for i in a:\n",
    "    print(i)"
   ]
  },
  {
   "cell_type": "markdown",
   "id": "efcc17f4",
   "metadata": {},
   "source": [
    "Q6. Write a python program to find palindromes in the given list of strings using lambda and filter\n",
    "function.\n",
    "['python', 'php', 'aba', 'radar', 'level']"
   ]
  },
  {
   "cell_type": "code",
   "execution_count": 134,
   "id": "680f3506",
   "metadata": {},
   "outputs": [],
   "source": [
    "a = ['python', 'php', 'aba', 'radar', 'level']"
   ]
  },
  {
   "cell_type": "code",
   "execution_count": 138,
   "id": "d986a714",
   "metadata": {},
   "outputs": [],
   "source": [
    "b = lambda x: x==x[::-1] "
   ]
  },
  {
   "cell_type": "code",
   "execution_count": 139,
   "id": "80ca9956",
   "metadata": {},
   "outputs": [],
   "source": [
    "c =filter(b,a)"
   ]
  },
  {
   "cell_type": "code",
   "execution_count": 140,
   "id": "95bf6244",
   "metadata": {},
   "outputs": [
    {
     "name": "stdout",
     "output_type": "stream",
     "text": [
      "php\n",
      "aba\n",
      "radar\n",
      "level\n"
     ]
    }
   ],
   "source": [
    "for i in c:\n",
    "    print(i)"
   ]
  },
  {
   "cell_type": "code",
   "execution_count": null,
   "id": "4e68ea3e",
   "metadata": {},
   "outputs": [],
   "source": []
  }
 ],
 "metadata": {
  "kernelspec": {
   "display_name": "Python 3 (ipykernel)",
   "language": "python",
   "name": "python3"
  },
  "language_info": {
   "codemirror_mode": {
    "name": "ipython",
    "version": 3
   },
   "file_extension": ".py",
   "mimetype": "text/x-python",
   "name": "python",
   "nbconvert_exporter": "python",
   "pygments_lexer": "ipython3",
   "version": "3.11.3"
  }
 },
 "nbformat": 4,
 "nbformat_minor": 5
}

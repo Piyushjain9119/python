{
 "cells": [
  {
   "cell_type": "markdown",
   "id": "db56ac25",
   "metadata": {},
   "source": [
    "Q1. What is Abstraction in OOps? Explain with an example."
   ]
  },
  {
   "cell_type": "markdown",
   "id": "36f42b57",
   "metadata": {},
   "source": [
    "ans --- \n",
    " abstraction in the object oriented programming is the fundamental to hide the  implementation of the object or can say hiding the defination of the functions inside the class by creating an abstract class\n",
    " abstract class can be created with the help of abc library \n",
    " simple we have to import abc then use @abc.abstacrt method at the start of the method /function\n",
    " thgis method creates the skeleton of the class in which there are undefined functions which can be defined by other classes according to there needs\n",
    " \n",
    " for example--- \n",
    " "
   ]
  },
  {
   "cell_type": "code",
   "execution_count": 38,
   "id": "fb67fd51",
   "metadata": {},
   "outputs": [],
   "source": [
    "import abc\n",
    "class car:\n",
    "    \n",
    "    @abc.abstractmethod\n",
    "    def name(self):\n",
    "        pass\n",
    "    \n",
    "    @abc.abstractmethod\n",
    "    def speed(self):\n",
    "        pass"
   ]
  },
  {
   "cell_type": "code",
   "execution_count": 39,
   "id": "a28943ec",
   "metadata": {},
   "outputs": [],
   "source": [
    "class honda(car):\n",
    "   def name(self,name):\n",
    "    return name\n",
    "\n",
    "class maruti(car):\n",
    "    def name(self,name):\n",
    "        return name "
   ]
  },
  {
   "cell_type": "code",
   "execution_count": 40,
   "id": "2ac647e7",
   "metadata": {},
   "outputs": [],
   "source": [
    "hn = honda()"
   ]
  },
  {
   "cell_type": "code",
   "execution_count": 41,
   "id": "f9e1e077",
   "metadata": {},
   "outputs": [
    {
     "data": {
      "text/plain": [
       "'mustang'"
      ]
     },
     "execution_count": 41,
     "metadata": {},
     "output_type": "execute_result"
    }
   ],
   "source": [
    "hn.name(\"mustang\")"
   ]
  },
  {
   "cell_type": "code",
   "execution_count": 42,
   "id": "82ecb899",
   "metadata": {},
   "outputs": [],
   "source": [
    "mr = maruti()"
   ]
  },
  {
   "cell_type": "code",
   "execution_count": 43,
   "id": "ff951940",
   "metadata": {},
   "outputs": [
    {
     "data": {
      "text/plain": [
       "'suzuki'"
      ]
     },
     "execution_count": 43,
     "metadata": {},
     "output_type": "execute_result"
    }
   ],
   "source": [
    "mr.name(\"suzuki\")"
   ]
  },
  {
   "cell_type": "markdown",
   "id": "5f1a6dc7",
   "metadata": {},
   "source": [
    "Q2. Differentiate between Abstraction and Encapsulation. Explain with an example."
   ]
  },
  {
   "cell_type": "markdown",
   "id": "a23c9c98",
   "metadata": {},
   "source": [
    "ans-   \n",
    "abstraction is  one of the main feature of oops which helps in hiding the implementation of the object from the user or we can say abstraction is hiding of data and showing only essential data to the user in known to be as abstarction\n",
    "\n",
    "\n",
    "encapsulation - it is also a main fundamental feature of oops which helps in arranging or can say wrpping data / wrapping up of data into a sigle unit is known to be as encapsulation\n"
   ]
  },
  {
   "cell_type": "code",
   "execution_count": 44,
   "id": "33e502bc",
   "metadata": {},
   "outputs": [],
   "source": [
    "import abc\n",
    "class Animals:\n",
    "    @abc.abstractmethod\n",
    "    def sound(self):\n",
    "        pass\n",
    "    \n",
    "class Dog(Animals):\n",
    "    def sound(self):\n",
    "        return \"bhaauu\"\n",
    "    \n",
    "class Cat(Animals):\n",
    "    def sound(self):\n",
    "        return \"meow\""
   ]
  },
  {
   "cell_type": "code",
   "execution_count": 45,
   "id": "1da5869f",
   "metadata": {},
   "outputs": [],
   "source": [
    "jerry = Dog()\n",
    "tom = Cat()"
   ]
  },
  {
   "cell_type": "code",
   "execution_count": 46,
   "id": "dacf7899",
   "metadata": {},
   "outputs": [
    {
     "data": {
      "text/plain": [
       "'bhaauu'"
      ]
     },
     "execution_count": 46,
     "metadata": {},
     "output_type": "execute_result"
    }
   ],
   "source": [
    "jerry.sound()"
   ]
  },
  {
   "cell_type": "code",
   "execution_count": 47,
   "id": "d4e65ede",
   "metadata": {},
   "outputs": [
    {
     "data": {
      "text/plain": [
       "'meow'"
      ]
     },
     "execution_count": 47,
     "metadata": {},
     "output_type": "execute_result"
    }
   ],
   "source": [
    "tom.sound()"
   ]
  },
  {
   "cell_type": "markdown",
   "id": "a1538c98",
   "metadata": {},
   "source": [
    "example of abstraction"
   ]
  },
  {
   "cell_type": "code",
   "execution_count": 48,
   "id": "2f18300e",
   "metadata": {},
   "outputs": [],
   "source": [
    "class bank:\n",
    "    \n",
    "    def __init__(self,name,bank_balance):\n",
    "        self.name = name\n",
    "        self.__bank_balance = bank_balance\n",
    "        \n",
    "    def getbankbalance(self):\n",
    "        return self.__bank_balance\n",
    "    \n",
    "    def deposite(self,amount):\n",
    "        self.__bank_balance = self.__bank_balance + amount\n",
    "        \n",
    "    def widthraw(self,amount):\n",
    "        self.__bank_balance = self.__bank_balance - amount\n",
    "        \n",
    "        \n",
    "        \n",
    "\n",
    "    "
   ]
  },
  {
   "cell_type": "code",
   "execution_count": 49,
   "id": "4820d258",
   "metadata": {},
   "outputs": [],
   "source": [
    "b = bank(\"piyush\",10000)"
   ]
  },
  {
   "cell_type": "code",
   "execution_count": 50,
   "id": "be62b95d",
   "metadata": {},
   "outputs": [
    {
     "data": {
      "text/plain": [
       "10000"
      ]
     },
     "execution_count": 50,
     "metadata": {},
     "output_type": "execute_result"
    }
   ],
   "source": [
    "b.getbankbalance()"
   ]
  },
  {
   "cell_type": "code",
   "execution_count": 51,
   "id": "a1a8487d",
   "metadata": {},
   "outputs": [],
   "source": [
    "b.widthraw(3500)"
   ]
  },
  {
   "cell_type": "code",
   "execution_count": 52,
   "id": "b82e97a9",
   "metadata": {},
   "outputs": [
    {
     "data": {
      "text/plain": [
       "6500"
      ]
     },
     "execution_count": 52,
     "metadata": {},
     "output_type": "execute_result"
    }
   ],
   "source": [
    "b.getbankbalance()"
   ]
  },
  {
   "cell_type": "markdown",
   "id": "79fb55db",
   "metadata": {},
   "source": [
    "example of encapsulation\n"
   ]
  },
  {
   "cell_type": "markdown",
   "id": "ef2662c3",
   "metadata": {},
   "source": [
    "Q3. What is abc module in python? Why is it used?"
   ]
  },
  {
   "cell_type": "markdown",
   "id": "af127e09",
   "metadata": {},
   "source": [
    "ans--\n",
    "   abc module is the inbuilt package of the python which is mainly used to get the feature of abstaction as it contains all the abstact class and other class libraries"
   ]
  },
  {
   "cell_type": "markdown",
   "id": "e5692122",
   "metadata": {},
   "source": [
    "Q4. How can we achieve data abstraction?"
   ]
  },
  {
   "cell_type": "markdown",
   "id": "d9b7bf0c",
   "metadata": {},
   "source": [
    "ans --- \n",
    "     data abstraction can be achieved by importing abc pakage or library into the class\n",
    "     \n",
    "     by making abstact classes data abstraction can be achieved easily\n",
    "     "
   ]
  },
  {
   "cell_type": "markdown",
   "id": "544ef34e",
   "metadata": {},
   "source": [
    "Q5. Can we create an instance of an abstract class? Explain your answer."
   ]
  },
  {
   "cell_type": "markdown",
   "id": "bbeb0068",
   "metadata": {},
   "source": [
    "ans-- we can create the instance of the abstract class but it is not necessary we can also access the data members and function of the abstact class with the help of the name of the abstact class \n",
    "but we have to create the instance for the child class which inherited that abstarct class to access the function and data members"
   ]
  },
  {
   "cell_type": "code",
   "execution_count": null,
   "id": "3068a3a5",
   "metadata": {},
   "outputs": [],
   "source": []
  }
 ],
 "metadata": {
  "kernelspec": {
   "display_name": "Python 3 (ipykernel)",
   "language": "python",
   "name": "python3"
  },
  "language_info": {
   "codemirror_mode": {
    "name": "ipython",
    "version": 3
   },
   "file_extension": ".py",
   "mimetype": "text/x-python",
   "name": "python",
   "nbconvert_exporter": "python",
   "pygments_lexer": "ipython3",
   "version": "3.11.3"
  }
 },
 "nbformat": 4,
 "nbformat_minor": 5
}

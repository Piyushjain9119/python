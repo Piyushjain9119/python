{
 "cells": [
  {
   "cell_type": "markdown",
   "id": "e35017be",
   "metadata": {},
   "source": [
    "# Q1. Write a python program to extract the video URL of the first five videos."
   ]
  },
  {
   "cell_type": "code",
   "execution_count": 1,
   "id": "df7f6768",
   "metadata": {},
   "outputs": [],
   "source": [
    "import requests\n",
    "from bs4 import BeautifulSoup\n",
    "from urllib.request import urlopen\n",
    "url = \"https://www.youtube.com/@PW-Foundation/videos\"\n",
    "\n",
    "response = requests.get(url)\n",
    "soup = BeautifulSoup(response.text, 'html.parser')\n",
    "\n",
    "video_links = soup.find_all('a', {'class': 'yt-simple-endpoint style-scope ytd-grid-video-renderer'})\n",
    "\n",
    "video_urls = []\n",
    "\n",
    "for link in video_links[:5]:\n",
    "    video_url = \"https://www.youtube.com\" + link['href']\n",
    "    video_urls.append(video_url)\n",
    "\n",
    "for video in video_urls:\n",
    "    print(video)"
   ]
  },
  {
   "cell_type": "markdown",
   "id": "f9552858",
   "metadata": {},
   "source": [
    "# Q2. Write a python program to extract the URL of the video thumbnails of the first five videos."
   ]
  },
  {
   "cell_type": "code",
   "execution_count": 2,
   "id": "498d9eb6",
   "metadata": {},
   "outputs": [],
   "source": [
    "response = requests.get(url)\n",
    "soup = BeautifulSoup(response.text, 'html.parser')\n",
    "\n",
    "thumbnail_links = soup.find_all('a', {'class': 'yt-simple-endpoint style-scope ytd-grid-video-renderer'})\n",
    "thumbnail_urls = []\n",
    "\n",
    "for link in thumbnail_links[:5]:\n",
    "    thumbnail_url = link.find('img')['src']\n",
    "    thumbnail_urls.append(thumbnail_url)\n",
    "\n",
    "for thumbnail in thumbnail_urls:\n",
    "    print(thumbnail)"
   ]
  },
  {
   "cell_type": "markdown",
   "id": "b4427f83",
   "metadata": {},
   "source": [
    "#  Q3. Write a python program to extract the title of the first five videos."
   ]
  },
  {
   "cell_type": "code",
   "execution_count": 3,
   "id": "0d97eab4",
   "metadata": {},
   "outputs": [],
   "source": [
    "response = requests.get(url)\n",
    "soup = BeautifulSoup(response.text, 'html.parser')\n",
    "\n",
    "title_links = soup.find_all('a', {'class': 'yt-simple-endpoint style-scope ytd-grid-video-renderer'})\n",
    "titles = []\n",
    "\n",
    "for link in title_links[:5]:\n",
    "    title = link.find('span', {'class': 'style-scope ytd-grid-video-renderer'}).text\n",
    "    titles.append(title)\n",
    "\n",
    "for title in titles:\n",
    "    print(title)"
   ]
  },
  {
   "cell_type": "markdown",
   "id": "fdb981e0",
   "metadata": {},
   "source": [
    "#  Q4. Write a python program to extract the number of views of the first five videos."
   ]
  },
  {
   "cell_type": "code",
   "execution_count": 4,
   "id": "2bff860e",
   "metadata": {},
   "outputs": [],
   "source": [
    "response = requests.get(url)\n",
    "soup = BeautifulSoup(response.text, 'html.parser')\n",
    "\n",
    "view_links = soup.find_all('a', {'class': 'yt-simple-endpoint style-scope ytd-grid-video-renderer'})\n",
    "views = []\n",
    "\n",
    "for link in view_links[:5]:\n",
    "    view = link.find('span', {'class': 'style-scope ytd-grid-video-renderer'}).text\n",
    "    views.append(view)\n",
    "\n",
    "for view in views:\n",
    "    print(view)"
   ]
  },
  {
   "cell_type": "markdown",
   "id": "a1e3a716",
   "metadata": {},
   "source": [
    "# Q5. Write a python program to extract the time of posting of video for the first five videos."
   ]
  },
  {
   "cell_type": "code",
   "execution_count": 5,
   "id": "0ad4eeec",
   "metadata": {},
   "outputs": [],
   "source": [
    "response = requests.get(url)\n",
    "soup = BeautifulSoup(response.text, 'html.parser')\n",
    "\n",
    "time_links = soup.find_all('a', {'class': 'yt-simple-endpoint style-scope ytd-grid-video-renderer'})\n",
    "times = []\n",
    "\n",
    "for link in time_links[:5]:\n",
    "    time = link.find('span', {'class': 'style-scope ytd-grid-video-renderer'}).text\n",
    "    times.append(time)\n",
    "\n",
    "for time in times:\n",
    "    print(time)"
   ]
  },
  {
   "cell_type": "code",
   "execution_count": null,
   "id": "a9b2ee65",
   "metadata": {},
   "outputs": [],
   "source": []
  }
 ],
 "metadata": {
  "kernelspec": {
   "display_name": "Python 3 (ipykernel)",
   "language": "python",
   "name": "python3"
  },
  "language_info": {
   "codemirror_mode": {
    "name": "ipython",
    "version": 3
   },
   "file_extension": ".py",
   "mimetype": "text/x-python",
   "name": "python",
   "nbconvert_exporter": "python",
   "pygments_lexer": "ipython3",
   "version": "3.11.3"
  }
 },
 "nbformat": 4,
 "nbformat_minor": 5
}

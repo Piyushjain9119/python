{
 "cells": [
  {
   "cell_type": "markdown",
   "id": "c79ed184",
   "metadata": {},
   "source": [
    "Q1. Explain Class and Object with respect to Object-Oriented Programming. Give a suitable example."
   ]
  },
  {
   "cell_type": "markdown",
   "id": "1deda71c",
   "metadata": {},
   "source": [
    "ans--\n",
    " class is generally a blueprint of real world entity in Object Oriented Programming(Oops).class helps us to create objects , objects are generally instance of the class that are declared and used to access the methods and the data member of the class.\n",
    " class helps us to encapsulate the data ,variables ,methods/functions into a single entity\n",
    " \n",
    " for example ---- \n",
    " \n",
    " "
   ]
  },
  {
   "cell_type": "code",
   "execution_count": 7,
   "id": "345c7c34",
   "metadata": {},
   "outputs": [],
   "source": [
    "class car:\n",
    "     \n",
    "    def __init__(self,car_name,car_speed):\n",
    "        self.car_name = car_name\n",
    "        self.car_speed =car_speed\n",
    "        \n",
    "    def set_car_speed(self,speed):\n",
    "        self.car_speed = speed\n",
    "        \n",
    "    def get_car_speed(self):\n",
    "        return self.car_speed"
   ]
  },
  {
   "cell_type": "code",
   "execution_count": 8,
   "id": "2fa922ed",
   "metadata": {},
   "outputs": [],
   "source": [
    "abc = car(\"mustang\",300)"
   ]
  },
  {
   "cell_type": "code",
   "execution_count": 9,
   "id": "c2bff66c",
   "metadata": {},
   "outputs": [
    {
     "data": {
      "text/plain": [
       "'mustang'"
      ]
     },
     "execution_count": 9,
     "metadata": {},
     "output_type": "execute_result"
    }
   ],
   "source": [
    "abc.car_name"
   ]
  },
  {
   "cell_type": "code",
   "execution_count": 10,
   "id": "f1e25490",
   "metadata": {},
   "outputs": [
    {
     "data": {
      "text/plain": [
       "300"
      ]
     },
     "execution_count": 10,
     "metadata": {},
     "output_type": "execute_result"
    }
   ],
   "source": [
    "abc.get_car_speed()"
   ]
  },
  {
   "cell_type": "code",
   "execution_count": 11,
   "id": "33501e02",
   "metadata": {},
   "outputs": [],
   "source": [
    "abc.set_car_speed(100)"
   ]
  },
  {
   "cell_type": "code",
   "execution_count": 12,
   "id": "81d2533a",
   "metadata": {},
   "outputs": [
    {
     "data": {
      "text/plain": [
       "100"
      ]
     },
     "execution_count": 12,
     "metadata": {},
     "output_type": "execute_result"
    }
   ],
   "source": [
    "abc.get_car_speed()"
   ]
  },
  {
   "cell_type": "markdown",
   "id": "9fc48e82",
   "metadata": {},
   "source": [
    "Q2. Name the four pillars of OOPs."
   ]
  },
  {
   "cell_type": "markdown",
   "id": "2323f6e2",
   "metadata": {},
   "source": [
    "ans-- \n",
    "   four pillars of oops are :-\n",
    "    1.polymorphism\n",
    "    2.encapsulation\n",
    "    3.inheritance\n",
    "    4.abstraction"
   ]
  },
  {
   "cell_type": "markdown",
   "id": "eeacffed",
   "metadata": {},
   "source": [
    "Q3. Explain why the __init__() function is used. Give a suitable example.\n"
   ]
  },
  {
   "cell_type": "markdown",
   "id": "52eb2311",
   "metadata": {},
   "source": [
    "ans --\n",
    "  __init()__ is a magic/dunder method or function \n",
    "  this function is generally used to get the initial variable values in the class \n",
    "  init() function is also known as constructor of the class which get all the object ,variable values at iinitial stage \n",
    "  for ex--"
   ]
  },
  {
   "cell_type": "code",
   "execution_count": 15,
   "id": "8ca029c8",
   "metadata": {},
   "outputs": [],
   "source": [
    "class car1:\n",
    "     \n",
    "    def __init__(self,car_name,car_speed):\n",
    "        self.car_name = car_name\n",
    "        self.car_speed =car_speed\n",
    "        "
   ]
  },
  {
   "cell_type": "code",
   "execution_count": 17,
   "id": "412a8d4b",
   "metadata": {},
   "outputs": [],
   "source": [
    "cg = car1(\"honda\",120)"
   ]
  },
  {
   "cell_type": "code",
   "execution_count": 18,
   "id": "a0cce664",
   "metadata": {},
   "outputs": [
    {
     "data": {
      "text/plain": [
       "'honda'"
      ]
     },
     "execution_count": 18,
     "metadata": {},
     "output_type": "execute_result"
    }
   ],
   "source": [
    "cg.car_name"
   ]
  },
  {
   "cell_type": "code",
   "execution_count": 19,
   "id": "2b1ac216",
   "metadata": {},
   "outputs": [
    {
     "data": {
      "text/plain": [
       "120"
      ]
     },
     "execution_count": 19,
     "metadata": {},
     "output_type": "execute_result"
    }
   ],
   "source": [
    "cg.car_speed"
   ]
  },
  {
   "cell_type": "markdown",
   "id": "5b741a7f",
   "metadata": {},
   "source": [
    "Q4. Why self is used in OOPs?"
   ]
  },
  {
   "cell_type": "markdown",
   "id": "d9d376be",
   "metadata": {},
   "source": [
    "ans-- \n",
    " self is not a defined keyword it is just used to bind the object or the function with the class\n",
    " we can use any name insted of self\n",
    " to do operation with the method or the variable in the class self shold always be used"
   ]
  },
  {
   "cell_type": "markdown",
   "id": "269f82fa",
   "metadata": {},
   "source": [
    "Q5. What is inheritance? Give an example for each type of inheritance."
   ]
  },
  {
   "cell_type": "markdown",
   "id": "655a456e",
   "metadata": {},
   "source": [
    "ans --\n",
    "  inheritance generally means deriving the parent class into the the child class or we can say  deriving one class to another so that the another class can operate the functions and the variables define in the parent class\n",
    "  \n",
    "  inheritance are of various types some of them are multilevel and multiple inheritance\n",
    "  \n",
    "  example of inheritance ---\n",
    "  "
   ]
  },
  {
   "cell_type": "code",
   "execution_count": 27,
   "id": "06d5695c",
   "metadata": {},
   "outputs": [],
   "source": [
    "class a:\n",
    "    def func1(self):\n",
    "        print(\"hello! how are you\")\n",
    "        \n",
    "class b(a):\n",
    "    def func2(self):\n",
    "        self.func1()\n",
    "        print(\"i am fine\")"
   ]
  },
  {
   "cell_type": "code",
   "execution_count": 28,
   "id": "70a057ea",
   "metadata": {},
   "outputs": [],
   "source": [
    "c = b()"
   ]
  },
  {
   "cell_type": "code",
   "execution_count": 29,
   "id": "5d48393c",
   "metadata": {},
   "outputs": [
    {
     "name": "stdout",
     "output_type": "stream",
     "text": [
      "hello! how are you\n",
      "i am fine\n"
     ]
    }
   ],
   "source": [
    "c.func2()"
   ]
  },
  {
   "cell_type": "code",
   "execution_count": null,
   "id": "e4cd84e9",
   "metadata": {},
   "outputs": [],
   "source": []
  }
 ],
 "metadata": {
  "kernelspec": {
   "display_name": "Python 3 (ipykernel)",
   "language": "python",
   "name": "python3"
  },
  "language_info": {
   "codemirror_mode": {
    "name": "ipython",
    "version": 3
   },
   "file_extension": ".py",
   "mimetype": "text/x-python",
   "name": "python",
   "nbconvert_exporter": "python",
   "pygments_lexer": "ipython3",
   "version": "3.11.3"
  }
 },
 "nbformat": 4,
 "nbformat_minor": 5
}
